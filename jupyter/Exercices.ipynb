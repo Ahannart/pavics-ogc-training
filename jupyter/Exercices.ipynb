{
 "cells": [
  {
   "cell_type": "markdown",
   "metadata": {},
   "source": [
    "# Exercises \n",
    "\n",
    "## Ideas\n",
    "\n",
    "* Get the precipitation forecast for the next 10 days from the Global Deterministic Prediction System (GDPS) of ECCC. \n",
    "* The the mean precipitation forecast from the Regional Ensemble Prediction System (REPS)\n",
    "* argh, it seems these layers are not available, even though they're listed. \n",
    "* Extract the values over Canada\n",
    "* Find the maximum precip occuring within the country. \n",
    "* Create a plot of the forecast for tomorrow. "
   ]
  },
  {
   "cell_type": "code",
   "execution_count": 82,
   "metadata": {
    "collapsed": true
   },
   "outputs": [],
   "source": [
    "from owslib.wcs import WebCoverageService\n",
    "geomet_wcs_url = 'http://geo.weather.gc.ca/geomet/?lang=en&service=WCS'\n",
    "pavics_wcs_url = 'http://boreas.ouranos.ca:8087/geoserver/wcs'"
   ]
  },
  {
   "cell_type": "code",
   "execution_count": 121,
   "metadata": {},
   "outputs": [],
   "source": [
    "wcs = WebCoverageService(pavics_wcs_url, version='1.0.0')"
   ]
  },
  {
   "cell_type": "code",
   "execution_count": 122,
   "metadata": {},
   "outputs": [],
   "source": [
    "layer = 'Synthese2015:TempAnnObs'\n",
    "obj = wcs.contents[layer]"
   ]
  },
  {
   "cell_type": "code",
   "execution_count": 123,
   "metadata": {},
   "outputs": [],
   "source": [
    "resp = wcs.getCoverage(layer, bbox=obj.boundingBoxWGS84, crs=obj.supportedCRS[0], width=79, height=61, format='GeoTiff')"
   ]
  },
  {
   "cell_type": "code",
   "execution_count": 124,
   "metadata": {},
   "outputs": [
    {
     "data": {
      "text/plain": [
       "b'<?xml version=\"1.0\" encoding=\"UTF-8\"?><ServiceExceptionReport version=\"1.2.0\" >   <ServiceException>\\n      java.lang.NullPointerException\\n</ServiceException></ServiceExceptionReport>'"
      ]
     },
     "execution_count": 124,
     "metadata": {},
     "output_type": "execute_result"
    }
   ],
   "source": [
    "resp.read()"
   ]
  },
  {
   "cell_type": "code",
   "execution_count": 4,
   "metadata": {
    "collapsed": true
   },
   "outputs": [],
   "source": []
  },
  {
   "cell_type": "code",
   "execution_count": null,
   "metadata": {
    "collapsed": true
   },
   "outputs": [],
   "source": []
  },
  {
   "cell_type": "code",
   "execution_count": null,
   "metadata": {
    "collapsed": true
   },
   "outputs": [],
   "source": []
  },
  {
   "cell_type": "code",
   "execution_count": null,
   "metadata": {
    "collapsed": true
   },
   "outputs": [],
   "source": [
    "wcs = WebCoverageService(geomet_wcs_url, version='1.0.0')"
   ]
  },
  {
   "cell_type": "code",
   "execution_count": 55,
   "metadata": {},
   "outputs": [
    {
     "data": {
      "text/plain": [
       "'RDPS.ETA - Precipitation accumulation'"
      ]
     },
     "execution_count": 55,
     "metadata": {},
     "output_type": "execute_result"
    }
   ],
   "source": [
    "layer_ids = ['RDPS.ETA_PR',] # 'REPS.DIAG.3_PRMM.ERMEAN'\n",
    "lid = layer_ids[0]\n",
    "meta = wcs.contents[lid]\n",
    "meta.title"
   ]
  },
  {
   "cell_type": "code",
   "execution_count": 56,
   "metadata": {
    "collapsed": true
   },
   "outputs": [],
   "source": [
    "out = wcs.getCoverage(identifier=layer_ids, bbox=meta.boundingBoxWGS84, crs='EPSG:4326')"
   ]
  },
  {
   "cell_type": "code",
   "execution_count": 72,
   "metadata": {
    "collapsed": true
   },
   "outputs": [],
   "source": [
    "desc = {}\n",
    "for key, val in wcs.contents.items():\n",
    "    if 'PR' in key:\n",
    "        if val.supportedFormats != []:\n",
    "            desc[key] = val\n",
    "    if len(desc) > 40:\n",
    "        break"
   ]
  },
  {
   "cell_type": "code",
   "execution_count": 73,
   "metadata": {},
   "outputs": [
    {
     "data": {
      "text/plain": [
       "dict_keys(['HRDPA.6F_PR', 'HRDPA.6P_PR', 'HRDPA.24F_PR', 'HRDPA.24P_PR', 'HRDPS.CONTINENTAL.PRES_ES.50', 'HRDPS.CONTINENTAL.PRES_ES.100', 'HRDPS.CONTINENTAL.PRES_ES.225', 'HRDPS.CONTINENTAL.PRES_ES.250', 'HRDPS.CONTINENTAL.PRES_ES.300', 'HRDPS.CONTINENTAL.PRES_ES.350', 'HRDPS.CONTINENTAL.PRES_ES.450', 'HRDPS.CONTINENTAL.PRES_ES.500', 'HRDPS.CONTINENTAL.PRES_ES.600', 'HRDPS.CONTINENTAL.PRES_ES.700', 'HRDPS.CONTINENTAL.PRES_ES.750', 'HRDPS.CONTINENTAL.PRES_ES.800', 'HRDPS.CONTINENTAL.PRES_ES.900', 'HRDPS.CONTINENTAL.PRES_ES.970', 'HRDPS.CONTINENTAL.PRES_ES.985', 'HRDPS.CONTINENTAL.PRES_ES.1000', 'HRDPS.CONTINENTAL.PRES_ES.1015', 'HRDPS.CONTINENTAL.PRES_GZ.100', 'HRDPS.CONTINENTAL.PRES_GZ.200', 'HRDPS.CONTINENTAL.PRES_GZ.250', 'HRDPS.CONTINENTAL.PRES_GZ.700', 'HRDPS.CONTINENTAL.PRES_GZ.925', 'HRDPS.CONTINENTAL.PRES_GZ.1000', 'HRDPS.CONTINENTAL.PRES_HR.50', 'HRDPS.CONTINENTAL.PRES_HR.150', 'HRDPS.CONTINENTAL.PRES_HR.225', 'HRDPS.CONTINENTAL.PRES_HR.250', 'HRDPS.CONTINENTAL.PRES_HR.300', 'HRDPS.CONTINENTAL.PRES_HR.400', 'HRDPS.CONTINENTAL.PRES_HR.500', 'HRDPS.CONTINENTAL.PRES_HR.550', 'HRDPS.CONTINENTAL.PRES_HR.600', 'HRDPS.CONTINENTAL.PRES_HR.650', 'HRDPS.CONTINENTAL.PRES_HR.700', 'HRDPS.CONTINENTAL.PRES_HR.750', 'HRDPS.CONTINENTAL.PRES_HR.800', 'HRDPS.CONTINENTAL.PRES_HR.950'])"
      ]
     },
     "execution_count": 73,
     "metadata": {},
     "output_type": "execute_result"
    }
   ],
   "source": [
    "desc.keys()"
   ]
  }
 ],
 "metadata": {
  "kernelspec": {
   "display_name": "Python 3.6",
   "language": "python",
   "name": "python3"
  },
  "language_info": {
   "codemirror_mode": {
    "name": "ipython",
    "version": 3
   },
   "file_extension": ".py",
   "mimetype": "text/x-python",
   "name": "python",
   "nbconvert_exporter": "python",
   "pygments_lexer": "ipython3",
   "version": "3.6.6"
  }
 },
 "nbformat": 4,
 "nbformat_minor": 2
}
