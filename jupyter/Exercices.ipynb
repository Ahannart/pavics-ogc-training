{
 "cells": [
  {
   "cell_type": "markdown",
   "metadata": {},
   "source": [
    "# Exercises \n",
    "\n",
    "## Ideas\n",
    "\n",
    "* Get the precipitation forecast for the next 10 days from the Global Deterministic Prediction System (GDPS) of ECCC. \n",
    "* The the mean precipitation forecast from the Regional Ensemble Prediction System (REPS)\n",
    "* argh, it seems these layers are not available, even though they're listed. \n",
    "* Extract the values over Canada\n",
    "* Find the maximum precip occuring within the country. \n",
    "* Create a plot of the forecast for tomorrow. "
   ]
  },
  {
   "cell_type": "code",
   "execution_count": 82,
   "metadata": {
    "collapsed": true
   },
   "outputs": [],
   "source": [
    "from owslib.wcs import WebCoverageService\n",
    "geomet_wcs_url = 'http://geo.weather.gc.ca/geomet/?lang=en&service=WCS'\n",
    "pavics_wcs_url = 'http://boreas.ouranos.ca:8087/geoserver/wcs'"
   ]
  },
  {
   "cell_type": "code",
   "execution_count": 121,
   "metadata": {},
   "outputs": [],
   "source": [
    "wcs = WebCoverageService(pavics_wcs_url, version='1.0.0')"
   ]
  },
  {
   "cell_type": "code",
   "execution_count": 122,
   "metadata": {},
   "outputs": [],
   "source": [
    "layer = 'Synthese2015:TempAnnObs'\n",
    "obj = wcs.contents[layer]"
   ]
  },
  {
   "cell_type": "code",
   "execution_count": 123,
   "metadata": {},
   "outputs": [],
   "source": [
    "resp = wcs.getCoverage(layer, bbox=obj.boundingBoxWGS84, crs=obj.supportedCRS[0], width=79, height=61, format='GeoTiff')"
   ]
  },
  {
   "cell_type": "code",
   "execution_count": 124,
   "metadata": {},
   "outputs": [
    {
     "data": {
      "text/plain": [
       "b'<?xml version=\"1.0\" encoding=\"UTF-8\"?><ServiceExceptionReport version=\"1.2.0\" >   <ServiceException>\\n      java.lang.NullPointerException\\n</ServiceException></ServiceExceptionReport>'"
      ]
     },
     "execution_count": 124,
     "metadata": {},
     "output_type": "execute_result"
    }
   ],
   "source": [
    "resp.read()"
   ]
  },
  {
   "cell_type": "markdown",
   "metadata": {
    "collapsed": true
   },
   "source": [
    "# WFS exercise\n",
    "\n",
    "I still can't find a way to extract the XML into a meaningful object..."
   ]
  },
  {
   "cell_type": "code",
   "execution_count": 133,
   "metadata": {},
   "outputs": [],
   "source": [
    "from owslib.wfs import WebFeatureService\n",
    "pavics_wfs_url = 'http://boreas.ouranos.ca:8087/geoserver/wfs'\n",
    "wfs = WebFeatureService(pavics_wfs_url, version='1.1.0')"
   ]
  },
  {
   "cell_type": "code",
   "execution_count": 134,
   "metadata": {},
   "outputs": [],
   "source": [
    "obj = wfs.contents['scratchTJS:canada_admin_boundaries']"
   ]
  },
  {
   "cell_type": "code",
   "execution_count": 190,
   "metadata": {},
   "outputs": [],
   "source": [
    "feat = wfs.getfeature(obj.id)"
   ]
  },
  {
   "cell_type": "code",
   "execution_count": 150,
   "metadata": {},
   "outputs": [],
   "source": [
    "from osgeo import ogr"
   ]
  },
  {
   "cell_type": "code",
   "execution_count": 194,
   "metadata": {},
   "outputs": [],
   "source": [
    "driver = ogr.GetDriverByName('WFS')\n",
    "source = driver.Open(txt)"
   ]
  },
  {
   "cell_type": "code",
   "execution_count": 195,
   "metadata": {},
   "outputs": [],
   "source": [
    "source"
   ]
  },
  {
   "cell_type": "code",
   "execution_count": 184,
   "metadata": {},
   "outputs": [],
   "source": [
    "source"
   ]
  },
  {
   "cell_type": "code",
   "execution_count": 188,
   "metadata": {},
   "outputs": [
    {
     "data": {
      "text/plain": [
       "'<?xml version=\"1.0\" encoding=\"UTF-8\"?><wfs:FeatureCollection xmlns:xs=\"http://www.w3.org/2001/XMLSchema\" xmlns:TravisTest=\"http://boreas.ouranos.ca:8087/geoserver/TravisTest\" xmlns:wfs=\"http://www.opengis.net/wfs\" xmlns:gml=\"http://www.opengis.net/gml\" xmlns:ogc=\"http://www.opengis.net/ogc\" xmlns:ows=\"http://www.opengis.net/ows\" xmlns:xlink=\"http://www.w3.org/1999/xlink\" xmlns:scratchTJS=\"http://boreas.ouranos.ca:8087/scratchtjs\" xmlns:xsi=\"http://www.w3.org/2001/XMLSchema-instance\" numberOfFeatures=\"13\" timeStamp=\"2018-09-18T17:22:25.259Z\" xsi:schemaLocation=\"http://boreas.ouranos.ca:8087/scratchtjs http://boreas.ouranos.ca:8087/geoserver/wfs?service=WFS&amp;version=1.1.0&amp;request=DescribeFeatureType&amp;typeName=scratchTJS%3Acanada_admin_boundaries http://www.opengis.net/wfs http://boreas.ouranos.ca:8087/geoserver/schemas/wfs/1.1.0/wfs.xsd\"><gml:boundedBy><gml:Envelope srsDimension=\"2\" srsName=\"GCS_WGS_1984\"><gml:lowerCorner>-141.01807315799994 41.681435425000075</gml:lowerCorner><gml:upperCorner>-52.61940850399992 83.13550252400006</gml:upperCorner></gml:Envelope></gml:boundedBy><gml:featureMembers><scratchTJS:canada_admin_boundaries gml:id=\"canada_admin_boundaries.1\"><gml:boundedBy><gml:Envelope srsName=\"GCS_WGS_1984\" srsDimension=\"2\"><gml:lowerCorner>-139.0522 48.3089</gml:lowerCorner><gml:upperCorner>-114.0542 60.0001</gml:upperCorner></gml:Envelope></gml:boundedBy><scratchTJS:the_geom><gml:MultiSurface srsName=\"GCS_WGS_1984\" srsDimension=\"2\"><gml:surfaceMember><gml:Polygon><gml:exterior><gml:LinearRing><gml:posList>-123.5398 48.3173 -123.5397 48.3172 -123.5393 48.3172 -123.5388 48.3171 -123.538 48.3173 -123.5378 48.3174 -123.5374 48.3174 -123.5373 48.3172 -123.5374 48.3167 -123.5386 48.3166 -123.5386 48.3165 -123.5382 48.3165 -123.5381 48.3164 -123.5386 48.3162 -123.5389 48.3159 -123.5401 48.3159 -123.5405 48.3158 -123.5407 48.3156 -123.5406 48.3152 -123.540'"
      ]
     },
     "execution_count": 188,
     "metadata": {},
     "output_type": "execute_result"
    }
   ],
   "source": [
    "txt[:1900]"
   ]
  },
  {
   "cell_type": "code",
   "execution_count": null,
   "metadata": {
    "collapsed": true
   },
   "outputs": [],
   "source": [
    "wcs = WebCoverageService(geomet_wcs_url, version='1.0.0')"
   ]
  },
  {
   "cell_type": "code",
   "execution_count": 55,
   "metadata": {},
   "outputs": [
    {
     "data": {
      "text/plain": [
       "'RDPS.ETA - Precipitation accumulation'"
      ]
     },
     "execution_count": 55,
     "metadata": {},
     "output_type": "execute_result"
    }
   ],
   "source": [
    "layer_ids = ['RDPS.ETA_PR',] # 'REPS.DIAG.3_PRMM.ERMEAN'\n",
    "lid = layer_ids[0]\n",
    "meta = wcs.contents[lid]\n",
    "meta.title"
   ]
  },
  {
   "cell_type": "code",
   "execution_count": 56,
   "metadata": {
    "collapsed": true
   },
   "outputs": [],
   "source": [
    "out = wcs.getCoverage(identifier=layer_ids, bbox=meta.boundingBoxWGS84, crs='EPSG:4326')"
   ]
  },
  {
   "cell_type": "code",
   "execution_count": 72,
   "metadata": {
    "collapsed": true
   },
   "outputs": [],
   "source": [
    "desc = {}\n",
    "for key, val in wcs.contents.items():\n",
    "    if 'PR' in key:\n",
    "        if val.supportedFormats != []:\n",
    "            desc[key] = val\n",
    "    if len(desc) > 40:\n",
    "        break"
   ]
  },
  {
   "cell_type": "code",
   "execution_count": 73,
   "metadata": {},
   "outputs": [
    {
     "data": {
      "text/plain": [
       "dict_keys(['HRDPA.6F_PR', 'HRDPA.6P_PR', 'HRDPA.24F_PR', 'HRDPA.24P_PR', 'HRDPS.CONTINENTAL.PRES_ES.50', 'HRDPS.CONTINENTAL.PRES_ES.100', 'HRDPS.CONTINENTAL.PRES_ES.225', 'HRDPS.CONTINENTAL.PRES_ES.250', 'HRDPS.CONTINENTAL.PRES_ES.300', 'HRDPS.CONTINENTAL.PRES_ES.350', 'HRDPS.CONTINENTAL.PRES_ES.450', 'HRDPS.CONTINENTAL.PRES_ES.500', 'HRDPS.CONTINENTAL.PRES_ES.600', 'HRDPS.CONTINENTAL.PRES_ES.700', 'HRDPS.CONTINENTAL.PRES_ES.750', 'HRDPS.CONTINENTAL.PRES_ES.800', 'HRDPS.CONTINENTAL.PRES_ES.900', 'HRDPS.CONTINENTAL.PRES_ES.970', 'HRDPS.CONTINENTAL.PRES_ES.985', 'HRDPS.CONTINENTAL.PRES_ES.1000', 'HRDPS.CONTINENTAL.PRES_ES.1015', 'HRDPS.CONTINENTAL.PRES_GZ.100', 'HRDPS.CONTINENTAL.PRES_GZ.200', 'HRDPS.CONTINENTAL.PRES_GZ.250', 'HRDPS.CONTINENTAL.PRES_GZ.700', 'HRDPS.CONTINENTAL.PRES_GZ.925', 'HRDPS.CONTINENTAL.PRES_GZ.1000', 'HRDPS.CONTINENTAL.PRES_HR.50', 'HRDPS.CONTINENTAL.PRES_HR.150', 'HRDPS.CONTINENTAL.PRES_HR.225', 'HRDPS.CONTINENTAL.PRES_HR.250', 'HRDPS.CONTINENTAL.PRES_HR.300', 'HRDPS.CONTINENTAL.PRES_HR.400', 'HRDPS.CONTINENTAL.PRES_HR.500', 'HRDPS.CONTINENTAL.PRES_HR.550', 'HRDPS.CONTINENTAL.PRES_HR.600', 'HRDPS.CONTINENTAL.PRES_HR.650', 'HRDPS.CONTINENTAL.PRES_HR.700', 'HRDPS.CONTINENTAL.PRES_HR.750', 'HRDPS.CONTINENTAL.PRES_HR.800', 'HRDPS.CONTINENTAL.PRES_HR.950'])"
      ]
     },
     "execution_count": 73,
     "metadata": {},
     "output_type": "execute_result"
    }
   ],
   "source": [
    "desc.keys()"
   ]
  }
 ],
 "metadata": {
  "kernelspec": {
   "display_name": "Python 3.6",
   "language": "python",
   "name": "python3"
  },
  "language_info": {
   "codemirror_mode": {
    "name": "ipython",
    "version": 3
   },
   "file_extension": ".py",
   "mimetype": "text/x-python",
   "name": "python",
   "nbconvert_exporter": "python",
   "pygments_lexer": "ipython3",
   "version": "3.6.6"
  }
 },
 "nbformat": 4,
 "nbformat_minor": 2
}
