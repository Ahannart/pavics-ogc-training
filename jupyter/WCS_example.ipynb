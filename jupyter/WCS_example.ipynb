{
 "cells": [
  {
   "cell_type": "markdown",
   "metadata": {
    "collapsed": true
   },
   "source": [
    "## Web Coverage Service : Example using Python Client : OWSLib "
   ]
  },
  {
   "cell_type": "code",
   "execution_count": 97,
   "metadata": {
    "scrolled": true
   },
   "outputs": [],
   "source": [
    "# Import WCS from owslib\n",
    "from owslib.wcs import WebCoverageService\n",
    "import matplotlib\n",
    "import matplotlib.pyplot as plt\n",
    "from osgeo import gdal"
   ]
  },
  {
   "cell_type": "markdown",
   "metadata": {},
   "source": [
    "### ECCC's GeoMet webservices: \n",
    "* With WCS we want to access the data not just a map"
   ]
  },
  {
   "cell_type": "code",
   "execution_count": 98,
   "metadata": {},
   "outputs": [
    {
     "name": "stdout",
     "output_type": "stream",
     "text": [
      "Meteorological Service of Canada Geospatial Web Services 2.0.6\n"
     ]
    }
   ],
   "source": [
    "wcs_url = 'http://geo.weather.gc.ca/geomet/?lang=en&service=WCS'\n",
    "# connection\n",
    "wcs = WebCoverageService(wcs_url,version='1.0.0')\n",
    "print(wcs.identification.title)"
   ]
  },
  {
   "cell_type": "markdown",
   "metadata": {},
   "source": [
    "#### 1 - Let's access the 'High Resolution Deterministic Prediction System (HRDPS)' temperature data : \n",
    "\n",
    "* variable code 'HRDPS.CONTINENTAL_TT'\n",
    "\n",
    "* How would I find this (or any other) variable code? use GetCapabilities request\n",
    "\n",
    "e.g. http://geo.weather.gc.ca/geomet/?lang=en&service=WCS&request=GetCapabilities"
   ]
  },
  {
   "cell_type": "code",
   "execution_count": 99,
   "metadata": {
    "collapsed": true
   },
   "outputs": [],
   "source": [
    "# connect to layer metadata\n",
    "temp = wcs['HRDPS.CONTINENTAL_TT']"
   ]
  },
  {
   "cell_type": "markdown",
   "metadata": {},
   "source": [
    "#### 2 - Print some metadata about the wcs layer"
   ]
  },
  {
   "cell_type": "code",
   "execution_count": 100,
   "metadata": {},
   "outputs": [
    {
     "name": "stdout",
     "output_type": "stream",
     "text": [
      "Layer title : HRDPS.CONTINENTAL - Air temperature\n",
      "BoundingBox : (207.037692108399, 27.6163200590158, 316.183159429048, 69.9580565063745)\n",
      "Formats : ['GEOTIFF_16', 'AAIGRID']\n",
      "Grid upper limits : ['2575', '1455']\n"
     ]
    }
   ],
   "source": [
    "#Title\n",
    "print('Layer title :', temp.title)\n",
    "#bounding box\n",
    "print('BoundingBox :', temp.boundingBoxWGS84)\n",
    "# supported data formats - we'll use geotiff\n",
    "print('Formats :', temp.supportedFormats)\n",
    "#grid dimensions\n",
    "print('Grid upper limits :', temp.grid.highlimits)"
   ]
  },
  {
   "cell_type": "markdown",
   "metadata": {},
   "source": [
    "#### 3 - Create WCS inputs"
   ]
  },
  {
   "cell_type": "code",
   "execution_count": 101,
   "metadata": {
    "collapsed": true
   },
   "outputs": [],
   "source": [
    "layerid = 'HRDPS.CONTINENTAL_TT'\n",
    "format_wcs = 'GEOTIFF_16'\n",
    "bbox_wcs = temp.boundingboxes[0]['bbox'] # Get the entire domain\n",
    "crs_wcs = temp.boundingboxes[0]['nativeSrs'] # Coordinate system\n",
    "w = 2575 \n",
    "h = 1455 "
   ]
  },
  {
   "cell_type": "markdown",
   "metadata": {},
   "source": [
    "#### 4 - Request and download the data via WCS"
   ]
  },
  {
   "cell_type": "code",
   "execution_count": 102,
   "metadata": {
    "collapsed": true
   },
   "outputs": [],
   "source": [
    "output=wcs.getCoverage(identifier=layerid,crs=crs_wcs,bbox=bbox_wcs,\n",
    "                       width=w,height=h,format=format_wcs)\n",
    "out_tiff = './output/HRDPS_CONTINENTAL_TT.tiff'\n",
    "f=open(out_tiff,'wb')\n",
    "f.write(output.read())\n",
    "f.close()\n"
   ]
  },
  {
   "cell_type": "markdown",
   "metadata": {},
   "source": [
    "#### 5 - Load and display the data"
   ]
  },
  {
   "cell_type": "code",
   "execution_count": 103,
   "metadata": {
    "collapsed": true
   },
   "outputs": [],
   "source": [
    "ds = gdal.Open(out_tiff).ReadAsArray()\n",
    "ds[ds==0]='nan'\n",
    "print(ds)\n",
    "plt.imshow(ds) #Not working - inline option unavailable?"
   ]
  }
 ],
 "metadata": {
  "kernelspec": {
   "display_name": "Python 3.5",
   "language": "python",
   "name": "metakernel_python"
  },
  "language_info": {
   "file_extension": ".py",
   "help_links": [
    {
     "text": "MetaKernel Magics",
     "url": "https://github.com/calysto/metakernel/blob/master/metakernel/magics/README.md"
    }
   ],
   "mimetype": "text/x-python",
   "name": "python"
  }
 },
 "nbformat": 4,
 "nbformat_minor": 1
}
