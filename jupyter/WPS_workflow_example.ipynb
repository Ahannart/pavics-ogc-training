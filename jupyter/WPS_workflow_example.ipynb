{
 "cells": [
  {
   "cell_type": "markdown",
   "metadata": {
    "collapsed": true
   },
   "source": [
    "### PAVICS WPS workflow \n",
    "##### In this example we will chain PAVICS wps calls together to create a hypothetical data analysis workflow\n",
    "We will try to accomplish the following tasks - all carried out on the PAVICS server:\n",
    "1. search for netcdf files using the PAVICS catalogue (we'll use some ClimEX data)\n",
    "* spatially subset the data for a zone over southern Quebec\n",
    "* temporally concatenate subsetted files into a single time-series\n",
    "* calculate a climate index (monthly maximum)\n",
    "* download the resulting .nc locally and make a plot \n",
    "\n",
    "In this example we will use three different PAVICS WPS suites\n",
    "* PAVICS catalogue : https://pavics.ouranos.ca/twitcher/ows/proxy/catalog/pywps\n",
    "* Flyingpigeon suite : https://pavics.ouranos.ca/twitcher/ows/proxy/flyingpigeon/wps \n",
    "* Hummingbird suite : https://pavics.ouranos.ca/twitcher/ows/proxy/hummingbird/wps\n"
   ]
  },
  {
   "cell_type": "markdown",
   "metadata": {
    "collapsed": true
   },
   "source": [
    "#### Imports\n"
   ]
  },
  {
   "cell_type": "code",
   "execution_count": null,
   "metadata": {},
   "outputs": [],
   "source": [
    "from owslib.wps import WebProcessingService\n",
    "from netCDF4 import Dataset\n",
    "import requests\n",
    "import xml.etree.ElementTree as ET   \n",
    "import matplotlib.pyplot as plt\n"
   ]
  },
  {
   "cell_type": "markdown",
   "metadata": {},
   "source": [
    "####1 - search for datasets using the Catalogue"
   ]
  },
  {
   "cell_type": "code",
   "execution_count": 2,
   "metadata": {},
   "outputs": [],
   "source": [
    "# catalogue WPS url\n",
    "wpsURL = 'https://pavics.ouranos.ca/twitcher/ows/proxy/catalog/pywps'\n",
    "\n",
    "# Connection \n",
    "wpsCatalogue = WebProcessingService(url=wpsURL)"
   ]
  },
  {
   "cell_type": "markdown",
   "metadata": {},
   "source": [
    "##### 1.1 List available catalogue processes"
   ]
  },
  {
   "cell_type": "code",
   "execution_count": 3,
   "metadata": {},
   "outputs": [
    {
     "name": "stdout",
     "output_type": "stream",
     "text": [
      "getpoint \t : Return a single value from a NetCDF file at the given grid coordinates. \n\nncplotly \t : Return a dictionary storing the data necessary to create a simple plotly time series. \n\npavicrawler \t : Crawl thredds server and write metadata to SOLR database. \n\npavicsearch \t : Search the PAVICS database and return a catalogue of matches. \n\npavicsupdate \t : Update database entries using key:value pairs and identified by their ids. \n\npavicsvalidate \t : Query database entries for missing required facets. \n\nperiod2indices \t : The final index is inclusive. \n\npavicstestdocs \t : Add test documents to Solr index. \n\n"
     ]
    }
   ],
   "source": [
    "for process in wpsCatalogue.processes:\n",
    "    print ('%s \\t : %s \\n' %(process.identifier, process.abstract))"
   ]
  },
  {
   "cell_type": "markdown",
   "metadata": {},
   "source": [
    "#####1.2 we want the 'pavicsearch' process\n",
    "* let's describe the process first "
   ]
  },
  {
   "cell_type": "code",
   "execution_count": 4,
   "metadata": {},
   "outputs": [
    {
     "name": "stdout",
     "output_type": "stream",
     "text": [
      "inputs : facets  :  Comma separated list of facets; facets are searchable indexing terms in the database.\ninputs : shards  :  Shards to be queried\ninputs : offset  :  Where to start in the document count of the database search.\ninputs : limit  :  Maximum number of documents to return.\ninputs : fields  :  Comme separated list of fields to return.\ninputs : format  :  Output format.\ninputs : query  :  Direct query to the database.\ninputs : distrib  :  Distributed query\ninputs : type  :  One of Dataset, File, Aggregate or FileAsAggregate.\ninputs : constraints  :  Format is facet1:value1,facet2:value2,...\ninputs : esgf  :  Whether to also search ESGF nodes.\ninputs : list_type  :  Can be opendap_url, fileserver_url, gridftp_url, globus_url, wms_url\noutputs : search_result  :  PAVICS Catalogue Search Result\noutputs : list_result  :  List of urls of the search result.\n"
     ]
    }
   ],
   "source": [
    "proc_name = 'pavicsearch'\n",
    "process = wpsCatalogue.describeprocess(proc_name) # get process info\n",
    "for i in process.dataInputs:\n",
    "    print('inputs :', i.identifier, ' : ', i.abstract)\n",
    "for i in process.processOutputs:\n",
    "    print('outputs :', i.identifier, ' : ', i.abstract)"
   ]
  },
  {
   "cell_type": "markdown",
   "metadata": {},
   "source": [
    "#####1.3 Search for ClimEx data - variable tasmax\n"
   ]
  },
  {
   "cell_type": "code",
   "execution_count": 6,
   "metadata": {},
   "outputs": [
    {
     "name": "stdout",
     "output_type": "stream",
     "text": [
      "ProcessSucceeded\nNone\n"
     ]
    }
   ],
   "source": [
    "# built Constraint string  variable = 'tasmax' and 'project ' = ClimEx \n",
    "constraintString = 'variable:tasmax,project:ClimEx'\n",
    "maxfiles = '10000'\n",
    "myinputs = [('constraints', constraintString),('type','File'), ('limit',maxfiles)]\n",
    "execution = wpsCatalogue.execute(proc_name, myinputs)\n",
    "print(execution.status)\n",
    "print(execution.processOutputs[-1].reference)\n"
   ]
  },
  {
   "cell_type": "code",
   "execution_count": 14,
   "metadata": {},
   "outputs": [
    {
     "name": "stdout",
     "output_type": "stream",
     "text": [
      "Numer of files found : 8700 \n\n['https://pavics.ouranos.ca/twitcher/ows/proxy/thredds/dodsC/birdhouse/ouranos/climex/QC11d3_CCCma-CanESM2_rcp85/day/historical-r1-r1i1p1/tasmax/tasmax_kda_206005_se.nc', 'https://pavics.ouranos.ca/twitcher/ows/proxy/thredds/dodsC/birdhouse/ouranos/climex/QC11d3_CCCma-CanESM2_rcp85/day/historical-r1-r2i1p1/tasmax/tasmax_kdb_202907_se.nc', 'https://pavics.ouranos.ca/twitcher/ows/proxy/thredds/dodsC/birdhouse/ouranos/climex/QC11d3_CCCma-CanESM2_rcp85/day/historical-r1-r1i1p1/tasmax/tasmax_kda_200310_se.nc', 'https://pavics.ouranos.ca/twitcher/ows/proxy/thredds/dodsC/birdhouse/ouranos/climex/QC11d3_CCCma-CanESM2_rcp85/day/historical-r1-r3i1p1/tasmax/tasmax_kdc_209701_se.nc', 'https://pavics.ouranos.ca/twitcher/ows/proxy/thredds/dodsC/birdhouse/ouranos/climex/QC11d3_CCCma-CanESM2_rcp85/day/historical-r1-r2i1p1/tasmax/tasmax_kdb_199110_se.nc', 'https://pavics.ouranos.ca/twitcher/ows/proxy/thredds/dodsC/birdhouse/ouranos/climex/QC11d3_CCCma-CanESM2_rcp85/day/historical-r1-r3i1p1/tasmax/tasmax_kdc_201311_se.nc', 'https://pavics.ouranos.ca/twitcher/ows/proxy/thredds/dodsC/birdhouse/ouranos/climex/QC11d3_CCCma-CanESM2_rcp85/day/historical-r1-r4i1p1/tasmax/tasmax_kdd_202210_se.nc', 'https://pavics.ouranos.ca/twitcher/ows/proxy/thredds/dodsC/birdhouse/ouranos/climex/QC11d3_CCCma-CanESM2_rcp85/day/historical-r1-r2i1p1/tasmax/tasmax_kdb_199406_se.nc', 'https://pavics.ouranos.ca/twitcher/ows/proxy/thredds/dodsC/birdhouse/ouranos/climex/QC11d3_CCCma-CanESM2_rcp85/day/historical-r1-r4i1p1/tasmax/tasmax_kdd_199403_se.nc', 'https://pavics.ouranos.ca/twitcher/ows/proxy/thredds/dodsC/birdhouse/ouranos/climex/QC11d3_CCCma-CanESM2_rcp85/day/historical-r1-r2i1p1/tasmax/tasmax_kdb_201703_se.nc', 'https://pavics.ouranos.ca/twitcher/ows/proxy/thredds/dodsC/birdhouse/ouranos/climex/QC11d3_CCCma-CanESM2_rcp85/day/historical-r1-r4i1p1/tasmax/tasmax_kdd_199010_se.nc', 'https://pavics.ouranos.ca/twitcher/ows/proxy/thredds/dodsC/birdhouse/ouranos/climex/QC11d3_CCCma-CanESM2_rcp85/day/historical-r1-r2i1p1/tasmax/tasmax_kdb_206206_se.nc', 'https://pavics.ouranos.ca/twitcher/ows/proxy/thredds/dodsC/birdhouse/ouranos/climex/QC11d3_CCCma-CanESM2_rcp85/day/historical-r1-r5i1p1/tasmax/tasmax_kde_207902_se.nc', 'https://pavics.ouranos.ca/twitcher/ows/proxy/thredds/dodsC/birdhouse/ouranos/climex/QC11d3_CCCma-CanESM2_rcp85/day/historical-r1-r5i1p1/tasmax/tasmax_kde_209102_se.nc'] ...\n"
     ]
    }
   ],
   "source": [
    "# Same workaround here - execution.processOutputs[-1].reference is none (?)\n",
    "o = requests.get(execution.statusLocation)\n",
    "tree = ET.fromstring(o.content)\n",
    "for child in tree:\n",
    "    if 'ProcessOutputs' in child.tag:\n",
    "        for c in child:\n",
    "            if 'Output' in c.tag:\n",
    "                for cc in c:\n",
    "                    if 'Reference' in cc.tag:\n",
    "                        r = requests.get(cc.get('{http://www.w3.org/1999/xlink}href'))\n",
    "                        #print(r.content)\n",
    "\n",
    "list_nc = r.json()\n",
    "print('Numer of files found :',len(list_nc), '\\n')\n",
    "print(list_nc[1:15],'...')"
   ]
  },
  {
   "cell_type": "markdown",
   "metadata": {},
   "source": [
    "#####1.4 There are multiple simulations - ids : 'kda','kdb' etc\n",
    "* Filter the list for only 'kda'\n",
    "* Get only a 1 year of data - 1981 \n",
    "* Files are not in sequential order - use sort() to clean up the list\n"
   ]
  },
  {
   "cell_type": "code",
   "execution_count": 68,
   "metadata": {},
   "outputs": [
    {
     "name": "stdout",
     "output_type": "stream",
     "text": [
      "Number of files : 12 ['https://pavics.ouranos.ca/twitcher/ows/proxy/thredds/dodsC/birdhouse/ouranos/climex/QC11d3_CCCma-CanESM2_rcp85/day/historical-r1-r1i1p1/tasmax/tasmax_kda_198101_se.nc', 'https://pavics.ouranos.ca/twitcher/ows/proxy/thredds/dodsC/birdhouse/ouranos/climex/QC11d3_CCCma-CanESM2_rcp85/day/historical-r1-r1i1p1/tasmax/tasmax_kda_198102_se.nc', 'https://pavics.ouranos.ca/twitcher/ows/proxy/thredds/dodsC/birdhouse/ouranos/climex/QC11d3_CCCma-CanESM2_rcp85/day/historical-r1-r1i1p1/tasmax/tasmax_kda_198103_se.nc', 'https://pavics.ouranos.ca/twitcher/ows/proxy/thredds/dodsC/birdhouse/ouranos/climex/QC11d3_CCCma-CanESM2_rcp85/day/historical-r1-r1i1p1/tasmax/tasmax_kda_198104_se.nc', 'https://pavics.ouranos.ca/twitcher/ows/proxy/thredds/dodsC/birdhouse/ouranos/climex/QC11d3_CCCma-CanESM2_rcp85/day/historical-r1-r1i1p1/tasmax/tasmax_kda_198105_se.nc', 'https://pavics.ouranos.ca/twitcher/ows/proxy/thredds/dodsC/birdhouse/ouranos/climex/QC11d3_CCCma-CanESM2_rcp85/day/historical-r1-r1i1p1/tasmax/tasmax_kda_198106_se.nc', 'https://pavics.ouranos.ca/twitcher/ows/proxy/thredds/dodsC/birdhouse/ouranos/climex/QC11d3_CCCma-CanESM2_rcp85/day/historical-r1-r1i1p1/tasmax/tasmax_kda_198107_se.nc', 'https://pavics.ouranos.ca/twitcher/ows/proxy/thredds/dodsC/birdhouse/ouranos/climex/QC11d3_CCCma-CanESM2_rcp85/day/historical-r1-r1i1p1/tasmax/tasmax_kda_198108_se.nc', 'https://pavics.ouranos.ca/twitcher/ows/proxy/thredds/dodsC/birdhouse/ouranos/climex/QC11d3_CCCma-CanESM2_rcp85/day/historical-r1-r1i1p1/tasmax/tasmax_kda_198109_se.nc', 'https://pavics.ouranos.ca/twitcher/ows/proxy/thredds/dodsC/birdhouse/ouranos/climex/QC11d3_CCCma-CanESM2_rcp85/day/historical-r1-r1i1p1/tasmax/tasmax_kda_198110_se.nc', 'https://pavics.ouranos.ca/twitcher/ows/proxy/thredds/dodsC/birdhouse/ouranos/climex/QC11d3_CCCma-CanESM2_rcp85/day/historical-r1-r1i1p1/tasmax/tasmax_kda_198111_se.nc', 'https://pavics.ouranos.ca/twitcher/ows/proxy/thredds/dodsC/birdhouse/ouranos/climex/QC11d3_CCCma-CanESM2_rcp85/day/historical-r1-r1i1p1/tasmax/tasmax_kda_198112_se.nc']\n"
     ]
    }
   ],
   "source": [
    "# filter netcdf_file list\n",
    "kda_nc = [i for i in list_nc if 'kda' in i and '1981' in i ]\n",
    "# sort the filtered list\n",
    "kda_nc.sort()\n",
    "\n",
    "print('Number of files :', len(kda_nc),kda_nc)\n",
    "\n"
   ]
  },
  {
   "cell_type": "markdown",
   "metadata": {},
   "source": [
    "##### End step 1 - Successful search and filtering of datasets\t"
   ]
  },
  {
   "cell_type": "markdown",
   "metadata": {},
   "source": [
    "### Step 2 - spatial subset the ncfiles\n",
    "* subetting functions can be found in Flyingpigeon \n",
    "* fist step initiate connection to flyingpigeon \n"
   ]
  },
  {
   "cell_type": "code",
   "execution_count": 36,
   "metadata": {},
   "outputs": [
    {
     "name": "stdout",
     "output_type": "stream",
     "text": [
      "Flyingpigeon 1.1_dev\n"
     ]
    }
   ],
   "source": [
    "wpsURL = 'https://pavics.ouranos.ca/twitcher/ows/proxy/flyingpigeon/wps'\n",
    "wpsFP = WebProcessingService(url=wpsURL,verbose=False, skip_caps=False)\n",
    "print(wpsFP.identification.title)"
   ]
  },
  {
   "cell_type": "markdown",
   "metadata": {},
   "source": [
    "##### 2.1 List available flyingpigeon processes"
   ]
  },
  {
   "cell_type": "code",
   "execution_count": 37,
   "metadata": {},
   "outputs": [
    {
     "name": "stdout",
     "output_type": "stream",
     "text": [
      "subset_countries \t : Return the data whose grid cells intersect the selected countries for each input dataset. \n\nsubset_continents \t : Return the data whose grid cells intersect the selected continents for each input dataset. \n\nsubset_regionseurope \t : Return the data whose grid cells inteserct the selected regions for each input dataset. \n\npointinspection \t : Extract the timeseries at the given coordinates. \n\nlandseamask \t : Mask grid cells according to their land area fraction. This process uses the ESGF datastore to access an appropriate land/sea mask. \n\nfetch_resources \t : Fetch data resources (limited to 50GB) to the local filesystem of the birdhouse compute provider. \n\nindices_percentiledays \t : Climatological percentile for each day of the year computed over the entire dataset. \n\nindices_single \t : Climate index calculated from one daily input variable. \n\nsdm_gbiffetch \t : Species occurence search in Global Biodiversity              Infrastructure Facillity (GBIF) \n\nsdm_getindices \t : Indices preparation for SDM process \n\nsdm_csvindices \t : Indices preparation for SDM process \n\nsdm_csv \t : Indices preparation for SDM process \n\nsdm_allinone \t : Indices preparation for SDM process \n\nweatherregimes_reanalyse \t : k-mean cluster analyse of the pressure patterns. Clusters are equivalent to weather regimes \n\nweatherregimes_projection \t : k-mean cluster analyse of the pressure patterns. Clusters are equivalent to weather regimes \n\nweatherregimes_model \t : k-mean cluster analyse of the pressure patterns. Clusters are equivalent to weather regimes \n\nplot_timeseries \t : Outputs some timeseries of the file field means. Spaghetti and uncertainty plot \n\nsegetalflora \t : Species biodiversity of segetal flora. \n\nspatial_analog \t : Spatial analogs based on the comparison of climate indices. The algorithm compares the distribution of the target indices with the distribution of spatially distributed candidate indices and returns a value  measuring the dissimilarity between both distributions over the candidate grid. \n\nmap_spatial_analog \t : Produce map showing the dissimilarity values computed by the spatial_analog process as well as indicating by a marker the location of the target site. \n\nsubset \t : Return the data for which grid cells intersect the selected polygon for each input dataset as well asthe time range selected. \n\naverager \t : Return the data with weighted average of grid cells intersecting the selected polygon for each input dataset as well as the time range selected. \n\nsubset_WFS \t : Return the data for which grid cells intersect the selected polygon for each input dataset. \n\naverager_WFS \t : Return the data with weighted average of grid cells intersecting the selected polygon for each input dataset. \n\nsubset_bbox \t : Return the data for which grid cells intersect the bounding box for each input dataset as well asthe time range selected. \n\naverager_bbox \t : Return the data with weighted average of grid cells intersecting the bounding box for each input dataset as well as the time range selected. \n\nouranos_public_indicators \t : Compute climate indicators: mean daily temp., min daily temp., max daily temp., growing degree days, number of days above 30C, freeze thaw cycles, total precipitation, and max 5-day precip. \n\nncmerge \t : Merge NetCDF files in the time dimension. \n\nEO_COPERNICUS_search \t : Search for EO Data in the scihub.copernicus archiveoutput is a list of Product according to the querry and a graphical visualisation. \n\nEO_COPERNICUS_fetch \t : Search for EO Data in the scihub.copernicus archiveproducts will be fechted into the local disc system.outuput is a list of produces and a graphical visualisation. \n\nesmf_regrid \t : Regrid netCDF files to a destination grid. \n\nEO_COPERNICUS_rgb \t : Based on a search querry the appropriate products are ploted as RGB graphics \n\nEO_COPERNICUS_indices \t : Derivateing indices like NDVI based on \n\nkddm_bc \t : Bias correction method using Kernel Density Distribution Mapping (KDDM). \n\nfreezethaw \t : Number of freeze-thaw events, where freezing and thawing occurs once a threshold of degree days below or above 0C is reached. A complete cycle (freeze-thaw-freeze) will return a value of 2. \n\nduration \t : Summarizes consecutive occurrences in a sequence where the logical operation returns TRUE. The summary operation is applied to the sequences within a temporal aggregation. \n\nicclim_TXx \t : Calculates the TXx indice: maximum of daily maximum temperature. \n\nicclim_SD \t : Calculates the SD indice: mean of daily snow depth [cm] \n\nicclim_TX90p \t : Calculate the TX90p indice: number of warm days-times (i.e. days with daily max temperature > 90th percentile of daily max temperature in the base period). \n\nicclim_R99pTOT \t : Calculate the R99pTOT indice: precipitation fraction due to extremely wet days (i.e. days with daily precipitation amount > 99th percentile of daily amount in the base period) [%] \n\nicclim_TXn \t : Calculates the TXn indice: minimum of daily maximum temperature. \n\nicclim_CDD \t : Calculates the CDD indice: maximum number of consecutive dry days (i.e. days with daily precipitation amount < 1 mm) [days]. \n\nicclim_TG90p \t : Calculate the TG90p indice: number of warm days (i.e. days with daily mean temperature > 90th percentile of daily mean temperature in the base period). \n\nicclim_SU \t : Calculates the SU indice: number of summer days (i.e. days with daily maximum temperature > 25 degrees Celsius) [days]. \n\nicclim_CFD \t : Calculates the CFD indice: maximum number of consecutive frost days (i.e. days with daily minimum temperature < 0 degrees Celsius) [days]. \n\nicclim_TN10p \t : Calculate the TN10p indice: number of cold nights (i.e. days with daily min temperature < 10th percentile of daily min temperature in the base period). \n\nicclim_TG \t : Calculates the TG indice: mean of daily mean temperature. \n\nicclim_TN90p \t : Calculate the TN90p indice: number of warm nights (i.e. days with daily min temperature > 90th percentile of daily min temperature in the base period). \n\nicclim_TR \t : Calculates the TR indice: number of tropical nights (i.e. days with daily minimum temperature > 20 degrees Celsius) [days]. \n\nicclim_RX5day \t : Calculates the RX5day indice: maximum consecutive 5-day precipitation amount [mm] \n\nicclim_vDTR \t : Calculates the vDTR indice: mean absolute day-to-day difference in DTR. \n\nicclim_SD50cm \t : Calculates the SD50cm indice: number of days with snow depth >= 50 cm [days] \n\nicclim_CWD \t : Calculates the CWD indice: maximum number of consecutive wet days (i.e. days with daily precipitation amount > = 1 mm) [days]. \n\nicclim_ID \t : Calculates the ID indice: number of ice days (i.e. days with daily maximum temperature < 0 degrees Celsius) [days]. \n\nicclim_R20mm \t : Calculates the R20mm indice: number of very heavy precipitation days (i.e. days with daily precipitation amount > = 20 mm) [days] \n\nicclim_CSU \t : Calculates the CSU indice: maximum number of consecutive summer days (i.e. days with daily maximum temperature > 25 degrees Celsius) [days]. \n\nicclim_RX1day \t : Calculates the RX1day indice: maximum 1-day precipitation amount [mm] \n\nicclim_WSDI \t : Calculate the WSDI indice (warm-spell duration index): number of days where, in intervals of at least 6 consecutive days, \n\nicclim_RR1 \t : Calculates the RR1 indice: number of wet days (i.e. days with daily precipitation amount > = 1 mm) [days] \n\nicclim_CSDI \t : Calculate the CSDI indice (cold-spell duration index): number of days where, in intervals of at least 6 consecutive days, \n\nicclim_R75pTOT \t : Calculate the R75pTOT indice: precipitation fraction due to moderate wet days (i.e. days with daily precipitation amount > 75th percentile of daily amount in the base period) [%] \n\nicclim_R95pTOT \t : Calculate the R95pTOT indice: precipitation fraction due to very wet days (i.e. days with daily precipitation amount > 95th percentile of daily amount in the base period) [%] \n\nicclim_R10mm \t : Calculates the R10mm indice: number of heavy precipitation days (i.e. days with daily precipitation amount > = 10 mm) [days] \n\nicclim_SDII \t : Calculates the SDII (simple daily intensity index) indice:  mean precipitation amount of wet days (i.e. days with daily precipitation amount > = 1 mm) [mm] \n\nicclim_DTR \t : Calculates the DTR indice: mean of daily temperature range. \n\nicclim_TG10p \t : Calculate the TG10p indice: number of cold days (i.e. days with daily mean temperature < 10th percentile of daily mean temperature in the base period). \n\nicclim_TX \t : Calculates the TX indice: mean of daily maximum temperature. \n\nicclim_PRCPTOT \t : Calculates the PRCPTOT indice: total precipitation in wet days [mm] \n\nicclim_TN \t : Calculates the TN indice: mean of daily minimum temperature. \n\nicclim_R75p \t : Calculate the R75p indice: number of moderate wet days (i.e. days with daily precipitation amount > 75th percentile of daily amount in the base period). \n\nicclim_TNx \t : Calculates the TNx indice: maximum of daily minimum temperature. \n\nicclim_SD5cm \t : Calculates the SD5cm indice: number of days with snow depth >= 5 cm [days] \n\nicclim_FD \t : Calculates the FD indice: number of frost days (i.e. days with daily minimum temperature < 0 degrees Celsius) [days]. \n\nicclim_R99p \t : Calculate the R99p indice: number of extremely wet days (i.e. days with daily precipitation amount > 99th percentile of daily amount in the base period). \n\nicclim_R95p \t : Calculate the R95p indice: number of very wet days (i.e. days with daily precipitation amount > 95th percentile of daily amount in the base period). \n\nicclim_SD1 \t : Calculates the SD1 indice: number of days with snow depth >= 1 cm [days] \n\nicclim_GD4 \t : Calculates the GD4 indice: growing degree days (sum of daily mean temperature > 4 degrees Celsius). \n\nicclim_TNn \t : Calculates the TNn indice: minimum of daily minimum temperature. \n\nicclim_HD17 \t : Calculates the HD17 indice: heating degree days (sum of (17 degrees Celsius - daily mean temperature)). \n\nicclim_ETR \t : Calculates the ETR indice: intra-period extreme temperature range. \n\nicclim_TX10p \t : Calculate the TX10p indice: number of cold day-times (i.e. days with daily max temperature < 10th percentile of daily max temperature in the base period). \n\n"
     ]
    }
   ],
   "source": [
    "for process in wpsFP.processes:\n",
    "    print ('%s \\t : %s \\n' %(process.identifier, process.abstract))"
   ]
  },
  {
   "cell_type": "markdown",
   "metadata": {},
   "source": [
    "#####2.2 Flyingpigeon does a lot - use 'subset_bbox' process for now\n",
    "* let's describe the process first"
   ]
  },
  {
   "cell_type": "code",
   "execution_count": 38,
   "metadata": {},
   "outputs": [
    {
     "name": "stdout",
     "output_type": "stream",
     "text": [
      "inputs : resource  :  NetCDF files, can be OPEnDAP urls.\ninputs : lon0  :  Minimum longitude.\ninputs : lon1  :  Maximum longitude.\ninputs : lat0  :  Minimum latitude.\ninputs : lat1  :  Maximum latitude.\ninputs : initial_datetime  :  Initial datetime for temporal subsetting.\ninputs : final_datetime  :  Final datetime for temporal subsetting.\ninputs : variable  :  Name of the variable in the NetCDF file.Will be guessed if not provided.\noutputs : output  :  JSON file with link to NetCDF outputs.\n"
     ]
    }
   ],
   "source": [
    "proc_name = 'subset_bbox'\n",
    "process = wpsFP.describeprocess(proc_name) # get process info\n",
    "for i in process.dataInputs:\n",
    "    print('inputs :', i.identifier, ' : ', i.abstract)\n",
    "for i in process.processOutputs:\n",
    "    print('outputs :', i.identifier, ' : ', i.abstract)"
   ]
  },
  {
   "cell_type": "markdown",
   "metadata": {
    "collapsed": false
   },
   "source": [
    "#####2.3 Create WPS inputs and execute WPS\n",
    "* This time we will have multiple 'resource' inputs \n",
    "* Subset first multiple .nc files with one WPS call \n",
    "* Subset only using lat lon bounds - other inputs left blank"
   ]
  },
  {
   "cell_type": "code",
   "execution_count": 47,
   "metadata": {
    "collapsed": false
   },
   "outputs": [
    {
     "name": "stdout",
     "output_type": "stream",
     "text": [
      "ProcessSucceeded\nNone\nhttps://pavics.ouranos.ca:443/wpsoutputs/flyingpigeon/b9ffafd8-b77b-11e8-9163-0242ac12000b.xml\n"
     ]
    }
   ],
   "source": [
    "myinputs = []\n",
    "# To keep things reasonably quick : subset jan-april\n",
    "for i in kda_nc[0:5]: \n",
    "    myinputs.append(('resource', i))\n",
    "myinputs.append(('lon0', '-80.0'))\n",
    "myinputs.append(('lon1', '-70.0'))\n",
    "myinputs.append(('lat0', '44.0'))\n",
    "myinputs.append(('lat1', '50'))\n",
    "print(myinputs)"
   ]
  },
  {
   "cell_type": "code",
   "execution_count": 48,
   "metadata": {
    "collapsed": false
   },
   "outputs": [
    {
     "name": "stdout",
     "output_type": "stream",
     "text": [
      "ProcessSucceeded\nNone\nhttps://pavics.ouranos.ca:443/wpsoutputs/flyingpigeon/b9ffafd8-b77b-11e8-9163-0242ac12000b.xml\n"
     ]
    }
   ],
   "source": [
    "\n",
    "execution = wpsFP.execute(proc_name, myinputs)\n",
    "print(execution.status)\n",
    "print(execution.processOutputs[-1].reference)\n",
    "print(execution.statusLocation)"
   ]
  },
  {
   "cell_type": "code",
   "execution_count": 49,
   "metadata": {},
   "outputs": [
    {
     "name": "stdout",
     "output_type": "stream",
     "text": [
      "['https://pavics.ouranos.ca:443/wpsoutputs/flyingpigeon/tmphgE6jU/tasmax_kda_198101_se_subset.nc', 'https://pavics.ouranos.ca:443/wpsoutputs/flyingpigeon/tmphgE6jU/tasmax_kda_198102_se_subset.nc', 'https://pavics.ouranos.ca:443/wpsoutputs/flyingpigeon/tmphgE6jU/tasmax_kda_198103_se_subset.nc', 'https://pavics.ouranos.ca:443/wpsoutputs/flyingpigeon/tmphgE6jU/tasmax_kda_198104_se_subset.nc', 'https://pavics.ouranos.ca:443/wpsoutputs/flyingpigeon/tmphgE6jU/tasmax_kda_198105_se_subset.nc']\n"
     ]
    }
   ],
   "source": [
    "o = requests.get(execution.statusLocation)\n",
    "tree = ET.fromstring(o.content)\n",
    "for child in tree:\n",
    "    if 'ProcessOutputs' in child.tag:\n",
    "        for c in child:\n",
    "            if 'Output' in c.tag:\n",
    "                for cc in c:\n",
    "                    if 'Reference' in cc.tag:\n",
    "                        r = requests.get(cc.get('{http://www.w3.org/1999/xlink}href'))\n",
    "                        #print(r.content)\n",
    "\n",
    "list_subset = r.json()\n",
    "print(list_subset)"
   ]
  },
  {
   "cell_type": "markdown",
   "metadata": {},
   "source": [
    "#####2.4 subset completed\n",
    "* Before moving on - Let's download one file to see if the subset worked"
   ]
  },
  {
   "cell_type": "code",
   "execution_count": 51,
   "metadata": {},
   "outputs": [],
   "source": [
    "r = requests.get(list_subset[0])\n",
    "\n",
    "outfile = './output/' +list_subset[0].split('/')[-1] \n",
    "with open(outfile, 'wb') as f:\n",
    "    f.write(r.content)"
   ]
  },
  {
   "cell_type": "code",
   "execution_count": 67,
   "metadata": {},
   "outputs": [
    {
     "data": {
      "text/plain": [
       "<matplotlib.contour.QuadContourSet at 0x7ff933169630>"
      ]
     },
     "execution_count": 67,
     "metadata": {},
     "output_type": "execute_result"
    },
    {
     "data": {
      "image/png": "[encoded data removed]",
      "text/plain": [
       "<Figure size 432x288 with 1 Axes>"
      ]
     },
     "metadata": {},
     "output_type": "display_data"
    }
   ],
   "source": [
    "nc1 = Dataset(outfile)\n",
    "tasmax = nc1.variables['tasmax'][:]\n",
    "lon = nc1.variables['lon'][:]\n",
    "lat = nc1.variables['lat'][:]\n",
    "plt.contourf(lon,lat,tasmax[1,:,:],20)"
   ]
  },
  {
   "cell_type": "markdown",
   "metadata": {},
   "source": [
    "#####Looks good - We can see the the St-Lawrence valley (if you are familiar with Quebec geography)"
   ]
  },
  {
   "cell_type": "code",
   "execution_count": null,
   "metadata": {},
   "outputs": [],
   "source": []
  }
 ],
 "metadata": {
  "kernelspec": {
   "display_name": "Python 2",
   "language": "python",
   "name": "python2"
  },
  "language_info": {
   "codemirror_mode": {
    "name": "ipython",
    "version": 2
   },
   "file_extension": ".py",
   "mimetype": "text/x-python",
   "name": "python",
   "nbconvert_exporter": "python",
   "pygments_lexer": "ipython2",
   "version": "2.7.6"
  }
 },
 "nbformat": 4,
 "nbformat_minor": 0
}
