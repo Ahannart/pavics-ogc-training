{
 "cells": [
  {
   "cell_type": "markdown",
   "metadata": {
    "collapsed": true
   },
   "source": [
    "### PAVICS WPS workflow \n",
    "##### In this example we will chain PAVICS wps calls together to create a hypothetical data analysis workflow\n",
    "We will try to accomplish the following tasks - all carried out on the PAVICS server:\n",
    "1. search for netcdf files using the PAVICS catalogue (we'll use some ClimEX data)\n",
    "* spatially subset the data for a zone over southern Quebec\n",
    "* temporally concatenate subsetted files into a single time-series\n",
    "* calculate a climate index (monthly maximum)\n",
    "* download the resulting .nc locally and make a plot \n",
    "\n",
    "In this example we will use three different PAVICS WPS suites\n",
    "* PAVICS catalogue : https://pavics.ouranos.ca/twitcher/ows/proxy/catalog/pywps\n",
    "* Flyingpigeon suite : https://pavics.ouranos.ca/twitcher/ows/proxy/flyingpigeon/wps \n",
    "* Hummingbird suite : https://pavics.ouranos.ca/twitcher/ows/proxy/hummingbird/wps\n"
   ]
  },
  {
   "cell_type": "markdown",
   "metadata": {
    "collapsed": true
   },
   "source": [
    "#### Imports\n"
   ]
  },
  {
   "cell_type": "code",
   "execution_count": 1,
   "metadata": {},
   "outputs": [],
   "source": [
    "from netCDF4 import Dataset\n",
    "import requests\n",
    "import xml.etree.ElementTree as ET   \n",
    "import matplotlib.pyplot as plt\n",
    "from owslib.wps import WebProcessingService, ComplexDataInput \n",
    "\n"
   ]
  },
  {
   "cell_type": "markdown",
   "metadata": {},
   "source": [
    "####1 - search for datasets using the Catalogue"
   ]
  },
  {
   "cell_type": "code",
   "execution_count": 2,
   "metadata": {},
   "outputs": [],
   "source": [
    "# catalogue WPS url\n",
    "wpsURL = 'https://pavics.ouranos.ca/twitcher/ows/proxy/catalog/pywps'\n",
    "\n",
    "# Connection \n",
    "wpsCatalogue = WebProcessingService(url=wpsURL)"
   ]
  },
  {
   "cell_type": "markdown",
   "metadata": {},
   "source": [
    "##### 1.1 List available catalogue processes"
   ]
  },
  {
   "cell_type": "code",
   "execution_count": 3,
   "metadata": {},
   "outputs": [
    {
     "name": "stdout",
     "output_type": "stream",
     "text": [
      "getpoint \t : Return a single value from a NetCDF file at the given grid coordinates. \n\nncplotly \t : Return a dictionary storing the data necessary to create a simple plotly time series. \n\npavicrawler \t : Crawl thredds server and write metadata to SOLR database. \n\npavicsearch \t : Search the PAVICS database and return a catalogue of matches. \n\npavicsupdate \t : Update database entries using key:value pairs and identified by their ids. \n\npavicsvalidate \t : Query database entries for missing required facets. \n\nperiod2indices \t : The final index is inclusive. \n\npavicstestdocs \t : Add test documents to Solr index. \n\n"
     ]
    }
   ],
   "source": [
    "for process in wpsCatalogue.processes:\n",
    "    print ('%s \\t : %s \\n' %(process.identifier, process.abstract))"
   ]
  },
  {
   "cell_type": "markdown",
   "metadata": {},
   "source": [
    "#####1.2 we want the 'pavicsearch' process\n",
    "* let's describe the process first "
   ]
  },
  {
   "cell_type": "code",
   "execution_count": 4,
   "metadata": {},
   "outputs": [
    {
     "name": "stdout",
     "output_type": "stream",
     "text": [
      "inputs : facets  :  Comma separated list of facets; facets are searchable indexing terms in the database.\ninputs : shards  :  Shards to be queried\ninputs : offset  :  Where to start in the document count of the database search.\ninputs : limit  :  Maximum number of documents to return.\ninputs : fields  :  Comme separated list of fields to return.\ninputs : format  :  Output format.\ninputs : query  :  Direct query to the database.\ninputs : distrib  :  Distributed query\ninputs : type  :  One of Dataset, File, Aggregate or FileAsAggregate.\ninputs : constraints  :  Format is facet1:value1,facet2:value2,...\ninputs : esgf  :  Whether to also search ESGF nodes.\ninputs : list_type  :  Can be opendap_url, fileserver_url, gridftp_url, globus_url, wms_url\noutputs : search_result  :  PAVICS Catalogue Search Result\noutputs : list_result  :  List of urls of the search result.\n"
     ]
    }
   ],
   "source": [
    "proc_name = 'pavicsearch'\n",
    "process = wpsCatalogue.describeprocess(proc_name) # get process info\n",
    "for i in process.dataInputs:\n",
    "    print('inputs :', i.identifier, ' : ', i.abstract)\n",
    "for i in process.processOutputs:\n",
    "    print('outputs :', i.identifier, ' : ', i.abstract)"
   ]
  },
  {
   "cell_type": "markdown",
   "metadata": {},
   "source": [
    "#####1.3 Search for NRCAN data - variable tasmax"
   ]
  },
  {
   "cell_type": "code",
   "execution_count": 63,
   "metadata": {},
   "outputs": [
    {
     "name": "stdout",
     "output_type": "stream",
     "text": [
      "ProcessSucceeded\nNone\n"
     ]
    }
   ],
   "source": [
    "# built Constraint string  variable = 'tasmax'  \n",
    "proc_name = 'pavicsearch'\n",
    "constraintString = 'variable:tasmax'\n",
    "maxfiles = '1000000'\n",
    "myinputs = [('constraints', constraintString),('type','File'), ('limit',maxfiles)]\n",
    "execution = wpsCatalogue.execute(identifier=proc_name, inputs=myinputs)\n",
    "print(execution.status)\n",
    "print(execution.processOutputs[-1].reference)\n"
   ]
  },
  {
   "cell_type": "code",
   "execution_count": 34,
   "metadata": {},
   "outputs": [
    {
     "name": "stdout",
     "output_type": "stream",
     "text": [
      "Numer of files found : 13026 \n\n['https://pavics.ouranos.ca/twitcher/ows/proxy/thredds/dodsC/birdhouse/ouranos/climex/QC11d3_CCCma-CanESM2_rcp85/day/historical-r1-r3i1p1/tasmax/tasmax_kdc_198902_se.nc', 'https://pavics.ouranos.ca/twitcher/ows/proxy/thredds/dodsC/birdhouse/ouranos/climex/QC11d3_CCCma-CanESM2_rcp85/day/historical-r1-r1i1p1/tasmax/tasmax_kda_206005_se.nc', 'https://pavics.ouranos.ca/twitcher/ows/proxy/thredds/dodsC/birdhouse/ouranos/cb-oura-1.0/HadGEM2-CC/rcp45/day/tasmax/tasmax_day_HadGEM2-CC_rcp45_r1i1p1_na10kgrid_qm-moving-50bins-detrend_2043.nc', 'https://pavics.ouranos.ca/twitcher/ows/proxy/thredds/dodsC/birdhouse/ouranos/climex/QC11d3_CCCma-CanESM2_rcp85/day/historical-r1-r2i1p1/tasmax/tasmax_kdb_202907_se.nc', 'https://pavics.ouranos.ca/twitcher/ows/proxy/thredds/dodsC/birdhouse/ouranos/climex/QC11d3_CCCma-CanESM2_rcp85/day/historical-r1-r1i1p1/tasmax/tasmax_kda_200310_se.nc', 'https://pavics.ouranos.ca/twitcher/ows/proxy/thredds/dodsC/birdhouse/ouranos/climex/QC11d3_CCCma-CanESM2_rcp85/day/historical-r1-r3i1p1/tasmax/tasmax_kdc_209701_se.nc', 'https://pavics.ouranos.ca/twitcher/ows/proxy/thredds/dodsC/birdhouse/ouranos/climex/QC11d3_CCCma-CanESM2_rcp85/day/historical-r1-r2i1p1/tasmax/tasmax_kdb_199110_se.nc', 'https://pavics.ouranos.ca/twitcher/ows/proxy/thredds/dodsC/birdhouse/ouranos/cb-oura-1.0/GFDL-ESM2M/rcp45/day/tasmax/tasmax_day_GFDL-ESM2M_rcp45_r1i1p1_na10kgrid_qm-moving-50bins-detrend_2046.nc', 'https://pavics.ouranos.ca/twitcher/ows/proxy/thredds/dodsC/birdhouse/ouranos/climex/QC11d3_CCCma-CanESM2_rcp85/day/historical-r1-r3i1p1/tasmax/tasmax_kdc_201311_se.nc', 'https://pavics.ouranos.ca/twitcher/ows/proxy/thredds/dodsC/birdhouse/ouranos/climex/QC11d3_CCCma-CanESM2_rcp85/day/historical-r1-r4i1p1/tasmax/tasmax_kdd_202210_se.nc', 'https://pavics.ouranos.ca/twitcher/ows/proxy/thredds/dodsC/birdhouse/ouranos/climex/QC11d3_CCCma-CanESM2_rcp85/day/historical-r1-r2i1p1/tasmax/tasmax_kdb_199406_se.nc', 'https://pavics.ouranos.ca/twitcher/ows/proxy/thredds/dodsC/birdhouse/ouranos/cb-oura-1.0/NorESM1-M/rcp85/day/tasmax/tasmax_day_NorESM1-M_rcp85_r1i1p1_na10kgrid_qm-moving-50bins-detrend_1998.nc', 'https://pavics.ouranos.ca/twitcher/ows/proxy/thredds/dodsC/birdhouse/ouranos/climex/QC11d3_CCCma-CanESM2_rcp85/day/historical-r1-r4i1p1/tasmax/tasmax_kdd_199403_se.nc', 'https://pavics.ouranos.ca/twitcher/ows/proxy/thredds/dodsC/birdhouse/ouranos/climex/QC11d3_CCCma-CanESM2_rcp85/day/historical-r1-r2i1p1/tasmax/tasmax_kdb_201703_se.nc'] ...\n"
     ]
    }
   ],
   "source": [
    "# Same workaround here - execution.processOutputs[-1].reference is none (?)\n",
    "o = requests.get(execution.statusLocation)\n",
    "tree = ET.fromstring(o.content)\n",
    "for child in tree:\n",
    "    if 'ProcessOutputs' in child.tag:\n",
    "        for c in child:\n",
    "            if 'Output' in c.tag:\n",
    "                for cc in c:\n",
    "                    if 'Reference' in cc.tag:\n",
    "                        r = requests.get(cc.get('{http://www.w3.org/1999/xlink}href'))\n",
    "                        #print(r.content)\n",
    "\n",
    "list_nc = r.json()\n",
    "print('Numer of files found :',len(list_nc), '\\n')\n",
    "print(list_nc[1:15],'...')"
   ]
  },
  {
   "cell_type": "markdown",
   "metadata": {},
   "source": [
    "#####1.4 We have a lot of files - Let's filter for NRCAN anusplin\n",
    "* Filter the list for only 'nrcan'\n",
    "* Get only a 3 years of data - 1981 to 1983 (more manageable for today)\n",
    "* Files are not in sequential order - use sort() to clean up the list\n"
   ]
  },
  {
   "cell_type": "code",
   "execution_count": 36,
   "metadata": {},
   "outputs": [
    {
     "name": "stdout",
     "output_type": "stream",
     "text": [
      "Number of files : 3 ['https://pavics.ouranos.ca/twitcher/ows/proxy/thredds/dodsC/birdhouse/nrcan/nrcan_canada_daily/tasmax/nrcan_canada_daily_tasmax_1981.nc', 'https://pavics.ouranos.ca/twitcher/ows/proxy/thredds/dodsC/birdhouse/nrcan/nrcan_canada_daily/tasmax/nrcan_canada_daily_tasmax_1982.nc', 'https://pavics.ouranos.ca/twitcher/ows/proxy/thredds/dodsC/birdhouse/nrcan/nrcan_canada_daily/tasmax/nrcan_canada_daily_tasmax_1983.nc']\n"
     ]
    }
   ],
   "source": [
    "# filter netcdf_file list\n",
    "nrcan_nc = [i for i in list_nc if 'nrcan' in i and ('1981' in i or '1982' in i or '1983' in i)]\n",
    "# sort the filtered list\n",
    "nrcan_nc.sort()\n",
    "\n",
    "print('Number of files :', len(nrcan_nc),nrcan_nc)\n",
    "\n"
   ]
  },
  {
   "cell_type": "markdown",
   "metadata": {},
   "source": [
    "##### End step 1 - Successful search and filtering of datasets\t\n",
    "##### PAVICS user level 0 : Use OpenDap urls to access the data\n",
    "* Does not leverage any computing power\n",
    "* Roughly equivalent to Web Coverage Service (i.e. access remote data on the server but process on local machine)"
   ]
  },
  {
   "cell_type": "code",
   "execution_count": 37,
   "metadata": {},
   "outputs": [
    {
     "name": "stdout",
     "output_type": "stream",
     "text": [
      "<class 'netCDF4._netCDF4.Dataset'>\nroot group (NETCDF3_CLASSIC data model, file format DAP2):\n    Conventions: CF-1.5\n    title: NRCAN 10km Gridded Climate Dataset\n    history: 2012-10-22T10:44:52: Convert from original format to NetCDF\n    institution: NRCAN\n    source: ANUSPLIN\n    redistribution: Redistribution policy unknown. For internal use only.\n    DODS_EXTRA.Unlimited_Dimension: time\n    dimensions(sizes): time(365), lat(510), lon(1068), ts(3)\n    variables(dimensions): float32 \u001b[4mlon\u001b[0m(lon), float32 \u001b[4mlat\u001b[0m(lat), int16 \u001b[4mts\u001b[0m(ts), int16 \u001b[4mtime\u001b[0m(time), int16 \u001b[4mtime_vectors\u001b[0m(time,ts), float32 \u001b[4mtasmax\u001b[0m(time,lat,lon)\n    groups: \n\n"
     ]
    }
   ],
   "source": [
    "\n",
    "nc_test = Dataset(nrcan_nc[0])\n",
    "print(nc_test)"
   ]
  },
  {
   "cell_type": "markdown",
   "metadata": {},
   "source": [
    "### Step 2 - spatial subset the ncfiles\n",
    "* let's try to learn how to use WPS more efficiently\n",
    "* subsetting functions can be found in Flyingpigeon \n",
    "* fist step initiate connection to flyingpigeon \n"
   ]
  },
  {
   "cell_type": "code",
   "execution_count": 38,
   "metadata": {},
   "outputs": [
    {
     "name": "stdout",
     "output_type": "stream",
     "text": [
      "Flyingpigeon 1.1_dev\n"
     ]
    }
   ],
   "source": [
    "wpsURL = 'https://pavics.ouranos.ca/twitcher/ows/proxy/flyingpigeon/wps'\n",
    "wpsFP = WebProcessingService(url=wpsURL,verbose=False, skip_caps=False)\n",
    "print(wpsFP.identification.title)"
   ]
  },
  {
   "cell_type": "markdown",
   "metadata": {},
   "source": [
    "##### 2.1 List available flyingpigeon processes"
   ]
  },
  {
   "cell_type": "code",
   "execution_count": 39,
   "metadata": {},
   "outputs": [
    {
     "name": "stdout",
     "output_type": "stream",
     "text": [
      "subset_countries \t : Return the data whose grid cells intersect the selected countries for each input dataset. \n\nsubset_continents \t : Return the data whose grid cells intersect the selected continents for each input dataset. \n\nsubset_regionseurope \t : Return the data whose grid cells inteserct the selected regions for each input dataset. \n\npointinspection \t : Extract the timeseries at the given coordinates. \n\nlandseamask \t : Mask grid cells according to their land area fraction. This process uses the ESGF datastore to access an appropriate land/sea mask. \n\nfetch_resources \t : Fetch data resources (limited to 50GB) to the local filesystem of the birdhouse compute provider. \n\nindices_percentiledays \t : Climatological percentile for each day of the year computed over the entire dataset. \n\nindices_single \t : Climate index calculated from one daily input variable. \n\nsdm_gbiffetch \t : Species occurence search in Global Biodiversity              Infrastructure Facillity (GBIF) \n\nsdm_getindices \t : Indices preparation for SDM process \n\nsdm_csvindices \t : Indices preparation for SDM process \n\nsdm_csv \t : Indices preparation for SDM process \n\nsdm_allinone \t : Indices preparation for SDM process \n\nweatherregimes_reanalyse \t : k-mean cluster analyse of the pressure patterns. Clusters are equivalent to weather regimes \n\nweatherregimes_projection \t : k-mean cluster analyse of the pressure patterns. Clusters are equivalent to weather regimes \n\nweatherregimes_model \t : k-mean cluster analyse of the pressure patterns. Clusters are equivalent to weather regimes \n\nplot_timeseries \t : Outputs some timeseries of the file field means. Spaghetti and uncertainty plot \n\nsegetalflora \t : Species biodiversity of segetal flora. \n\nspatial_analog \t : Spatial analogs based on the comparison of climate indices. The algorithm compares the distribution of the target indices with the distribution of spatially distributed candidate indices and returns a value  measuring the dissimilarity between both distributions over the candidate grid. \n\nmap_spatial_analog \t : Produce map showing the dissimilarity values computed by the spatial_analog process as well as indicating by a marker the location of the target site. \n\nsubset \t : Return the data for which grid cells intersect the selected polygon for each input dataset as well asthe time range selected. \n\naverager \t : Return the data with weighted average of grid cells intersecting the selected polygon for each input dataset as well as the time range selected. \n\nsubset_WFS \t : Return the data for which grid cells intersect the selected polygon for each input dataset. \n\naverager_WFS \t : Return the data with weighted average of grid cells intersecting the selected polygon for each input dataset. \n\nsubset_bbox \t : Return the data for which grid cells intersect the bounding box for each input dataset as well asthe time range selected. \n\naverager_bbox \t : Return the data with weighted average of grid cells intersecting the bounding box for each input dataset as well as the time range selected. \n\nouranos_public_indicators \t : Compute climate indicators: mean daily temp., min daily temp., max daily temp., growing degree days, number of days above 30C, freeze thaw cycles, total precipitation, and max 5-day precip. \n\nncmerge \t : Merge NetCDF files in the time dimension. \n\nEO_COPERNICUS_search \t : Search for EO Data in the scihub.copernicus archiveoutput is a list of Product according to the querry and a graphical visualisation. \n\nEO_COPERNICUS_fetch \t : Search for EO Data in the scihub.copernicus archiveproducts will be fechted into the local disc system.outuput is a list of produces and a graphical visualisation. \n\nesmf_regrid \t : Regrid netCDF files to a destination grid. \n\nEO_COPERNICUS_rgb \t : Based on a search querry the appropriate products are ploted as RGB graphics \n\nEO_COPERNICUS_indices \t : Derivateing indices like NDVI based on \n\nkddm_bc \t : Bias correction method using Kernel Density Distribution Mapping (KDDM). \n\nfreezethaw \t : Number of freeze-thaw events, where freezing and thawing occurs once a threshold of degree days below or above 0C is reached. A complete cycle (freeze-thaw-freeze) will return a value of 2. \n\nduration \t : Summarizes consecutive occurrences in a sequence where the logical operation returns TRUE. The summary operation is applied to the sequences within a temporal aggregation. \n\nicclim_TXx \t : Calculates the TXx indice: maximum of daily maximum temperature. \n\nicclim_SD \t : Calculates the SD indice: mean of daily snow depth [cm] \n\nicclim_TX90p \t : Calculate the TX90p indice: number of warm days-times (i.e. days with daily max temperature > 90th percentile of daily max temperature in the base period). \n\nicclim_R99pTOT \t : Calculate the R99pTOT indice: precipitation fraction due to extremely wet days (i.e. days with daily precipitation amount > 99th percentile of daily amount in the base period) [%] \n\nicclim_TXn \t : Calculates the TXn indice: minimum of daily maximum temperature. \n\nicclim_CDD \t : Calculates the CDD indice: maximum number of consecutive dry days (i.e. days with daily precipitation amount < 1 mm) [days]. \n\nicclim_TG90p \t : Calculate the TG90p indice: number of warm days (i.e. days with daily mean temperature > 90th percentile of daily mean temperature in the base period). \n\nicclim_SU \t : Calculates the SU indice: number of summer days (i.e. days with daily maximum temperature > 25 degrees Celsius) [days]. \n\nicclim_CFD \t : Calculates the CFD indice: maximum number of consecutive frost days (i.e. days with daily minimum temperature < 0 degrees Celsius) [days]. \n\nicclim_TN10p \t : Calculate the TN10p indice: number of cold nights (i.e. days with daily min temperature < 10th percentile of daily min temperature in the base period). \n\nicclim_TG \t : Calculates the TG indice: mean of daily mean temperature. \n\nicclim_TN90p \t : Calculate the TN90p indice: number of warm nights (i.e. days with daily min temperature > 90th percentile of daily min temperature in the base period). \n\nicclim_TR \t : Calculates the TR indice: number of tropical nights (i.e. days with daily minimum temperature > 20 degrees Celsius) [days]. \n\nicclim_RX5day \t : Calculates the RX5day indice: maximum consecutive 5-day precipitation amount [mm] \n\nicclim_vDTR \t : Calculates the vDTR indice: mean absolute day-to-day difference in DTR. \n\nicclim_SD50cm \t : Calculates the SD50cm indice: number of days with snow depth >= 50 cm [days] \n\nicclim_CWD \t : Calculates the CWD indice: maximum number of consecutive wet days (i.e. days with daily precipitation amount > = 1 mm) [days]. \n\nicclim_ID \t : Calculates the ID indice: number of ice days (i.e. days with daily maximum temperature < 0 degrees Celsius) [days]. \n\nicclim_R20mm \t : Calculates the R20mm indice: number of very heavy precipitation days (i.e. days with daily precipitation amount > = 20 mm) [days] \n\nicclim_CSU \t : Calculates the CSU indice: maximum number of consecutive summer days (i.e. days with daily maximum temperature > 25 degrees Celsius) [days]. \n\nicclim_RX1day \t : Calculates the RX1day indice: maximum 1-day precipitation amount [mm] \n\nicclim_WSDI \t : Calculate the WSDI indice (warm-spell duration index): number of days where, in intervals of at least 6 consecutive days, \n\nicclim_RR1 \t : Calculates the RR1 indice: number of wet days (i.e. days with daily precipitation amount > = 1 mm) [days] \n\nicclim_CSDI \t : Calculate the CSDI indice (cold-spell duration index): number of days where, in intervals of at least 6 consecutive days, \n\nicclim_R75pTOT \t : Calculate the R75pTOT indice: precipitation fraction due to moderate wet days (i.e. days with daily precipitation amount > 75th percentile of daily amount in the base period) [%] \n\nicclim_R95pTOT \t : Calculate the R95pTOT indice: precipitation fraction due to very wet days (i.e. days with daily precipitation amount > 95th percentile of daily amount in the base period) [%] \n\nicclim_R10mm \t : Calculates the R10mm indice: number of heavy precipitation days (i.e. days with daily precipitation amount > = 10 mm) [days] \n\nicclim_SDII \t : Calculates the SDII (simple daily intensity index) indice:  mean precipitation amount of wet days (i.e. days with daily precipitation amount > = 1 mm) [mm] \n\nicclim_DTR \t : Calculates the DTR indice: mean of daily temperature range. \n\nicclim_TG10p \t : Calculate the TG10p indice: number of cold days (i.e. days with daily mean temperature < 10th percentile of daily mean temperature in the base period). \n\nicclim_TX \t : Calculates the TX indice: mean of daily maximum temperature. \n\nicclim_PRCPTOT \t : Calculates the PRCPTOT indice: total precipitation in wet days [mm] \n\nicclim_TN \t : Calculates the TN indice: mean of daily minimum temperature. \n\nicclim_R75p \t : Calculate the R75p indice: number of moderate wet days (i.e. days with daily precipitation amount > 75th percentile of daily amount in the base period). \n\nicclim_TNx \t : Calculates the TNx indice: maximum of daily minimum temperature. \n\nicclim_SD5cm \t : Calculates the SD5cm indice: number of days with snow depth >= 5 cm [days] \n\nicclim_FD \t : Calculates the FD indice: number of frost days (i.e. days with daily minimum temperature < 0 degrees Celsius) [days]. \n\nicclim_R99p \t : Calculate the R99p indice: number of extremely wet days (i.e. days with daily precipitation amount > 99th percentile of daily amount in the base period). \n\nicclim_R95p \t : Calculate the R95p indice: number of very wet days (i.e. days with daily precipitation amount > 95th percentile of daily amount in the base period). \n\nicclim_SD1 \t : Calculates the SD1 indice: number of days with snow depth >= 1 cm [days] \n\nicclim_GD4 \t : Calculates the GD4 indice: growing degree days (sum of daily mean temperature > 4 degrees Celsius). \n\nicclim_TNn \t : Calculates the TNn indice: minimum of daily minimum temperature. \n\nicclim_HD17 \t : Calculates the HD17 indice: heating degree days (sum of (17 degrees Celsius - daily mean temperature)). \n\nicclim_ETR \t : Calculates the ETR indice: intra-period extreme temperature range. \n\nicclim_TX10p \t : Calculate the TX10p indice: number of cold day-times (i.e. days with daily max temperature < 10th percentile of daily max temperature in the base period). \n\n"
     ]
    }
   ],
   "source": [
    "for process in wpsFP.processes:\n",
    "    print ('%s \\t : %s \\n' %(process.identifier, process.abstract))"
   ]
  },
  {
   "cell_type": "markdown",
   "metadata": {},
   "source": [
    "#####2.2 Flyingpigeon does a lot - use 'subset_bbox' process for now\n",
    "* let's describe the process first"
   ]
  },
  {
   "cell_type": "code",
   "execution_count": 40,
   "metadata": {},
   "outputs": [
    {
     "name": "stdout",
     "output_type": "stream",
     "text": [
      "Subset  :  Return the data for which grid cells intersect the bounding box for each input dataset as well asthe time range selected. \n\ninputs : resource  :  NetCDF files, can be OPEnDAP urls.\ninputs : lon0  :  Minimum longitude.\ninputs : lon1  :  Maximum longitude.\ninputs : lat0  :  Minimum latitude.\ninputs : lat1  :  Maximum latitude.\ninputs : initial_datetime  :  Initial datetime for temporal subsetting.\ninputs : final_datetime  :  Final datetime for temporal subsetting.\ninputs : variable  :  Name of the variable in the NetCDF file.Will be guessed if not provided.\noutputs : output  :  JSON file with link to NetCDF outputs.\n"
     ]
    }
   ],
   "source": [
    "proc_name = 'subset_bbox'\n",
    "process = wpsFP.describeprocess(proc_name)\n",
    "print(process.title,' : ',process.abstract,'\\n')\n",
    "for i in process.dataInputs:\n",
    "    print('inputs :', i.identifier, ' : ', i.abstract)\n",
    "for i in process.processOutputs:\n",
    "    print('outputs :', i.identifier, ' : ', i.abstract)"
   ]
  },
  {
   "cell_type": "markdown",
   "metadata": {
    "collapsed": false
   },
   "source": [
    "#####2.3 Create WPS inputs and execute WPS\n",
    "This time we will have multiple 'resource' inputs \n",
    "* Subset multiple .nc files with one WPS call \n",
    "* Subset only using lat lon bounds - other inputs left blank"
   ]
  },
  {
   "cell_type": "code",
   "execution_count": 41,
   "metadata": {
    "collapsed": false
   },
   "outputs": [
    {
     "name": "stdout",
     "output_type": "stream",
     "text": [
      "[('resource', 'https://pavics.ouranos.ca/twitcher/ows/proxy/thredds/dodsC/birdhouse/nrcan/nrcan_canada_daily/tasmax/nrcan_canada_daily_tasmax_1981.nc'), ('resource', 'https://pavics.ouranos.ca/twitcher/ows/proxy/thredds/dodsC/birdhouse/nrcan/nrcan_canada_daily/tasmax/nrcan_canada_daily_tasmax_1982.nc'), ('resource', 'https://pavics.ouranos.ca/twitcher/ows/proxy/thredds/dodsC/birdhouse/nrcan/nrcan_canada_daily/tasmax/nrcan_canada_daily_tasmax_1983.nc'), ('lon0', '-80.0'), ('lon1', '-70.0'), ('lat0', '44.0'), ('lat1', '50')]\n"
     ]
    }
   ],
   "source": [
    "myinputs = []\n",
    "# To keep things reasonably quick : subset jan-april\n",
    "for i in nrcan_nc: \n",
    "    myinputs.append(('resource', i))\n",
    "myinputs.append(('lon0', '-80.0'))\n",
    "myinputs.append(('lon1', '-70.0'))\n",
    "myinputs.append(('lat0', '44.0'))\n",
    "myinputs.append(('lat1', '50'))\n",
    "print(myinputs)"
   ]
  },
  {
   "cell_type": "code",
   "execution_count": 42,
   "metadata": {
    "collapsed": false
   },
   "outputs": [
    {
     "name": "stdout",
     "output_type": "stream",
     "text": [
      "ProcessSucceeded\nNone\nhttps://pavics.ouranos.ca:443/wpsoutputs/flyingpigeon/1cf6b5ae-b82c-11e8-b251-0242ac12000b.xml\n"
     ]
    }
   ],
   "source": [
    "# This could take a some time\n",
    "execution = wpsFP.execute(identifier=proc_name, inputs=myinputs)\n",
    "print(execution.status)\n",
    "print(execution.processOutputs[-1].reference)\n",
    "print(execution.statusLocation)"
   ]
  },
  {
   "cell_type": "code",
   "execution_count": 43,
   "metadata": {},
   "outputs": [
    {
     "name": "stdout",
     "output_type": "stream",
     "text": [
      "['https://pavics.ouranos.ca:443/wpsoutputs/flyingpigeon/tmpeOHNr5/nrcan_canada_daily_tasmax_1981_subset.nc', 'https://pavics.ouranos.ca:443/wpsoutputs/flyingpigeon/tmpeOHNr5/nrcan_canada_daily_tasmax_1982_subset.nc', 'https://pavics.ouranos.ca:443/wpsoutputs/flyingpigeon/tmpeOHNr5/nrcan_canada_daily_tasmax_1983_subset.nc']\n"
     ]
    }
   ],
   "source": [
    "o = requests.get(execution.statusLocation)\n",
    "tree = ET.fromstring(o.content)\n",
    "for child in tree:\n",
    "    if 'ProcessOutputs' in child.tag:\n",
    "        for c in child:\n",
    "            if 'Output' in c.tag:\n",
    "                for cc in c:\n",
    "                    if 'Reference' in cc.tag:\n",
    "                        r = requests.get(cc.get('{http://www.w3.org/1999/xlink}href'))\n",
    "                        #print(r.content)\n",
    "\n",
    "list_subset = r.json()\n",
    "print(list_subset)"
   ]
  },
  {
   "cell_type": "markdown",
   "metadata": {},
   "source": [
    "#####2.4 subset completed\n",
    "Before moving on - Let's download one file to see how the subset worked"
   ]
  },
  {
   "cell_type": "code",
   "execution_count": 44,
   "metadata": {},
   "outputs": [
    {
     "name": "stdout",
     "output_type": "stream",
     "text": [
      "./output/nrcan_canada_daily_tasmax_1981_subset.nc\n"
     ]
    }
   ],
   "source": [
    "r = requests.get(list_subset[0])\n",
    "outfile = './output/' +list_subset[0].split('/')[-1] \n",
    "print(outfile)\n",
    "with open(outfile, 'wb') as f:\n",
    "    f.write(r.content)"
   ]
  },
  {
   "cell_type": "code",
   "execution_count": 45,
   "metadata": {},
   "outputs": [
    {
     "data": {
      "text/plain": [
       "<matplotlib.contour.QuadContourSet at 0x7fa7f987e4e0>"
      ]
     },
     "execution_count": 45,
     "metadata": {},
     "output_type": "execute_result"
    },
    {
     "data": {
      "image/png": "[encoded data removed]",
      "text/plain": [
       "<Figure size 432x288 with 1 Axes>"
      ]
     },
     "metadata": {},
     "output_type": "display_data"
    }
   ],
   "source": [
    "nc1 = Dataset(outfile)\n",
    "tasmax = nc1.variables['tasmax'][:]\n",
    "lon = nc1.variables['lon'][:]\n",
    "lat = nc1.variables['lat'][:]\n",
    "plt.contourf(lon,lat,tasmax.mean(axis=0),20)\n"
   ]
  },
  {
   "cell_type": "markdown",
   "metadata": {},
   "source": [
    "#####Looks good - the St-Lawrence valley is visible (if you are familiar with Quebec geography)\n",
    "##### End step 2 - Successful spatial subsetting of datasets\t"
   ]
  },
  {
   "cell_type": "markdown",
   "metadata": {},
   "source": [
    "### Step 3 - temporal concatenation using 'ncmerge'\n",
    "* 'ncmerge' can also be accessed in Flyingpigeon \n",
    " "
   ]
  },
  {
   "cell_type": "markdown",
   "metadata": {},
   "source": [
    "##### As always : start by describing the process"
   ]
  },
  {
   "cell_type": "code",
   "execution_count": 46,
   "metadata": {},
   "outputs": [
    {
     "name": "stdout",
     "output_type": "stream",
     "text": [
      "inputs : resource  :  NetCDF files, can be OPEnDAP urls.\noutputs : output  :  Temporally merged NetCDF files.\n"
     ]
    }
   ],
   "source": [
    "proc_name = 'ncmerge'\n",
    "process = wpsFP.describeprocess(proc_name) # get process info\n",
    "for i in process.dataInputs:\n",
    "    print('inputs :', i.identifier, ' : ', i.abstract)\n",
    "for i in process.processOutputs:\n",
    "    print('outputs :', i.identifier, ' : ', i.abstract)"
   ]
  },
  {
   "cell_type": "markdown",
   "metadata": {},
   "source": [
    "#####3.1 Question : Are my subsetted urls (list_subset) opendap urls?\n",
    "* Simple test : follow one of the links\n",
    "* If you start to download : Not OpenDAP\n"
   ]
  },
  {
   "cell_type": "code",
   "execution_count": 47,
   "metadata": {},
   "outputs": [
    {
     "name": "stdout",
     "output_type": "stream",
     "text": [
      "https://pavics.ouranos.ca:443/wpsoutputs/flyingpigeon/tmpeOHNr5/nrcan_canada_daily_tasmax_1981_subset.nc\n"
     ]
    },
    {
     "data": {
      "text/plain": [
       "True"
      ]
     },
     "execution_count": 47,
     "metadata": {},
     "output_type": "execute_result"
    }
   ],
   "source": [
    "#Check if opendap\n",
    "import webbrowser\n",
    "print(list_subset[0])\n",
    "webbrowser.open_new(list_subset[0])"
   ]
  },
  {
   "cell_type": "markdown",
   "metadata": {},
   "source": [
    "\n",
    "#####3.2 Test conclusion : The subsetted .nc urls are NOT OpenDAP\n",
    "* Future development - we would like to get both OpenDap and direct links as outputs from PAVICS"
   ]
  },
  {
   "cell_type": "markdown",
   "metadata": {},
   "source": [
    "#####3.3 We can still use them but resouce inputs must be sent using ComplexDataInput()\n",
    "* Create inputs list and execute WPS\n"
   ]
  },
  {
   "cell_type": "code",
   "execution_count": 67,
   "metadata": {},
   "outputs": [
    {
     "name": "stdout",
     "output_type": "stream",
     "text": [
      "ProcessSucceeded\nhttps://pavics.ouranos.ca:443/wpsoutputs/flyingpigeon/06c12b18-b82f-11e8-b251-0242ac12000b.xml\n"
     ]
    }
   ],
   "source": [
    "proc_name = 'ncmerge'\n",
    "myinputs = []\n",
    "for l in list_subset:\n",
    "    #print(l)\n",
    "    myinputs.append(('resource', ComplexDataInput(l)))\n",
    "print(myinputs)\n"
   ]
  },
  {
   "cell_type": "code",
   "execution_count": 68,
   "metadata": {},
   "outputs": [
    {
     "name": "stdout",
     "output_type": "stream",
     "text": [
      "ProcessSucceeded\nhttps://pavics.ouranos.ca:443/wpsoutputs/flyingpigeon/06c12b18-b82f-11e8-b251-0242ac12000b.xml\n"
     ]
    }
   ],
   "source": [
    "execution = wpsFP.execute(\n",
    "    identifier=proc_name,\n",
    "    inputs=myinputs, )\n",
    "print(execution.status)\n",
    "#print(execution.processOutputs[-1].reference)\n",
    "print(execution.statusLocation)\n",
    "\n"
   ]
  },
  {
   "cell_type": "markdown",
   "metadata": {},
   "source": [
    "##### 3.3 Get WPS output location and download merged .nc file \n"
   ]
  },
  {
   "cell_type": "code",
   "execution_count": 69,
   "metadata": {},
   "outputs": [
    {
     "name": "stdout",
     "output_type": "stream",
     "text": [
      "https://pavics.ouranos.ca:443/wpsoutputs/flyingpigeon/06c12b18-b82f-11e8-b251-0242ac12000b.xml\n"
     ]
    },
    {
     "name": "stdout",
     "output_type": "stream",
     "text": [
      "This is the url to the merged file : https://pavics.ouranos.ca:443/wpsoutputs/flyingpigeon/06c12b18-b82f-11e8-b251-0242ac12000b/nrcan_canada_daily_tasmax_1981_subset_merged_UwgXPF.nc\n./output/nrcan_canada_daily_tasmax_1981_subset_merged_UwgXPF.nc\n"
     ]
    }
   ],
   "source": [
    "print(execution.statusLocation)\n",
    "o = requests.get(execution.statusLocation)\n",
    "tree = ET.fromstring(o.content)\n",
    "for child in tree:\n",
    "    if 'ProcessOutputs' in child.tag:\n",
    "        for c in child:\n",
    "            if 'Output' in c.tag:\n",
    "                for cc in c:\n",
    "                    if 'Reference' in cc.tag:\n",
    "                        merged_nc = cc.get('{http://www.w3.org/1999/xlink}href')\n",
    "                        #print(r.content)\n",
    "r = requests.get(merged_nc)\n",
    "print('This is the url to the merged file :',merged_nc)\n",
    "outfile_merge = './output/' + merged_nc.split('/')[-1] \n",
    "print(outfile_merge)\n",
    "with open(outfile_merge, 'wb') as f:\n",
    "    f.write(r.content)"
   ]
  },
  {
   "cell_type": "markdown",
   "metadata": {},
   "source": [
    "#####3.4 Make a plot : we should have 3 years of data"
   ]
  },
  {
   "cell_type": "code",
   "execution_count": 73,
   "metadata": {},
   "outputs": [
    {
     "data": {
      "text/plain": [
       "[<matplotlib.lines.Line2D at 0x7fa7f8f425c0>]"
      ]
     },
     "execution_count": 73,
     "metadata": {},
     "output_type": "execute_result"
    },
    {
     "data": {
      "image/png": "[encoded data removed]",
      "text/plain": [
       "<Figure size 432x288 with 1 Axes>"
      ]
     },
     "metadata": {},
     "output_type": "display_data"
    }
   ],
   "source": [
    "ncOut = Dataset(outfile_merge)\n",
    "#print(ncOut)\n",
    "\n",
    "tasmax_merge = ncOut.variables['tasmax'][:]\n",
    "plt.plot(tasmax_merge[:,10,10])"
   ]
  },
  {
   "cell_type": "markdown",
   "metadata": {},
   "source": [
    "##### End step 3 - Successful temporal merge"
   ]
  },
  {
   "cell_type": "markdown",
   "metadata": {},
   "source": [
    "### Step 4 - Calculate monthly maximums  \n",
    "1. Use CDO operators via Hummingbird - A different WPS suite\n",
    "\n",
    "#####4.1 Let's start with connecting to Hummingbird\n",
    "##### As always : start by describing the process\n"
   ]
  },
  {
   "cell_type": "code",
   "execution_count": 86,
   "metadata": {},
   "outputs": [
    {
     "name": "stdout",
     "output_type": "stream",
     "text": [
      "CDO Operation  :  Calls CDO operations like monmax on a NetCDF file. \n\ninputs : dataset  :  You may provide a URL or upload a NetCDF file.\ninputs : dataset_opendap  :  Or provide a remote OpenDAP data URL, for example: http://www.esrl.noaa.gov/psd/thredds/dodsC/Datasets/ncep.reanalysis2.dailyavgs/surface/mslp.2016.nc\ninputs : operator  :  Choose a CDO Operator.                          See the CDO documentation to lookup a description of the operators.\noutputs : output  :  NetCDF Output generated by CDO.\n"
     ]
    }
   ],
   "source": [
    "wpsURL = 'https://boreas.ouranos.ca/twitcher/ows/proxy/hummingbird/wps'\n",
    "wpsHM = WebProcessingService(url=wpsURL)\n",
    "print(wpsHM.identification.title)"
   ]
  },
  {
   "cell_type": "markdown",
   "metadata": {},
   "source": [
    "#####4.2 List WPS services available in Hummingbird\n"
   ]
  },
  {
   "cell_type": "code",
   "execution_count": 98,
   "metadata": {},
   "outputs": [
    {
     "name": "stdout",
     "output_type": "stream",
     "text": [
      "ncdump \t : Run ncdump to retrieve NetCDF header metadata. \nspotchecker \t : Checks a single uploaded or remote dataset against a variety of compliance standards. The dataset is either in the NetCDF format or a remote OpenDAP resource. Available compliance standards are the Climate and Forecast conventions (CF) and project specific rules for CMIP6 and CORDEX. \ncchecker \t : Runs the IOOS Compliance Checker tool to check datasets against compliance standards. Each compliance standard is executed by a Check Suite, which functions similar to a Python standard Unit Test. A Check Suite runs one or more checks against a dataset, returning a list of Results which are then aggregated into a summary. Development and maintenance for the compliance checker is done by the Integrated Ocean Observing System (IOOS). \ncfchecker \t : The NetCDF Climate Forcast Conventions compliance checker by CEDA. This process allows you to run the compliance checker to check that the contents of a NetCDF file comply with the Climate and Forecasts (CF) Metadata Convention. The CF-checker was developed at the Hadley Centre for Climate Prediction and Research, UK Met Office by Rosalyn Hatcher. This work was supported by PRISM (PRogramme for Integrated Earth System Modelling). Development and maintenance for the CF-checker has now been taken over by the NCAS Computational Modelling Services (NCAS-CMS). If you have suggestions for improvement then please contact Rosalyn Hatcher at NCAS-CMS (r.s.hatcher@reading.ac.uk). \ncmor_checker \t : Calls the CMIP6 cmor checker to verify CMIP6 compliance.CMIP6 CMOR checker will verify that all attributes in the input file are present and conform to CMIP6 for publication into ESGF. \nqa_cfchecker \t : The NetCDF Climate Forcast Conventions compliance checker by DKRZ. This process allows you to run the compliance checker to check that the contents of a NetCDF file comply with the Climate and Forecasts (CF) Metadata Convention. The CF Conformance checker applies to conventions 1.4 -1.7draft. Development and maintenance for the CF-checker is done by the German Climate Computing Centre (DKRZ). If you have suggestions for improvement then please contact Heinz-Dieter Hollweg at DKRZ (hollweg@dkrz.de). \nqa_checker \t : The Quality Assurance checker QA-DKRZ checks conformance of meta-data of climate simulations given in NetCDF format with conventions and rules of climate model projects. At present, checking of CF Conventions, CMIP5, and CORDEX is supported. Development and maintenance for the QA checker is done by the German Climate Computing Centre (DKRZ). If you have suggestions for improvement then please contact Heinz-Dieter Hollweg at DKRZ (hollweg@dkrz.de). \ncdo_sinfo \t : Runs CDO to retrieve NetCDF metadata information. Calls the sinfo operator of CDO (Climate Data Operator) on a NetCDF file and returns a document with metadata information. \ncdo_operation \t : Calls CDO operations like monmax on a NetCDF file. \ncdo_copy \t : Calls CDO to copy or concatenate datasets. All input datasets need to have the same structure with the same variables on different timesteps. \ncdo_bbox \t : Runs CDO to clip a bounding-box from a NetCDF file. Calls the CDO (Climate Data Operators) sellonlatbox operator with a bounding-box and returns the resulting NetCDF file. \ncdo_indices \t : Calculates climate indices like summer days using CDO. Calls the Climate Data Operators (CDO) tool with a single dataset (NetCDF, OpenDAP) provided and uses the chosen operator to calculate climate indices written to a NetCDF file. \nensembles \t : Calling cdo to calculate ensembles operations. \ncdo_inter_mpi \t : CDO Remapping of NetCDF File(s) with multiprocessing \n"
     ]
    }
   ],
   "source": [
    "for process in wpsHM.processes:\n",
    "    print ('%s \\t : %s ' %(process.identifier, process.abstract))\n"
   ]
  },
  {
   "cell_type": "markdown",
   "metadata": {},
   "source": [
    "#####4.3 We want to use 'CDO operation'\n",
    "* As always we start by ...... Describing the process!"
   ]
  },
  {
   "cell_type": "code",
   "execution_count": 99,
   "metadata": {},
   "outputs": [
    {
     "name": "stdout",
     "output_type": "stream",
     "text": [
      "CDO Operation  :  Calls CDO operations like monmax on a NetCDF file. \n\ninputs : dataset  :  You may provide a URL or upload a NetCDF file.\ninputs : dataset_opendap  :  Or provide a remote OpenDAP data URL, for example: http://www.esrl.noaa.gov/psd/thredds/dodsC/Datasets/ncep.reanalysis2.dailyavgs/surface/mslp.2016.nc\ninputs : operator  :  Choose a CDO Operator.                          See the CDO documentation to lookup a description of the operators.\noutputs : output  :  NetCDF Output generated by CDO.\n"
     ]
    }
   ],
   "source": [
    "\n",
    "proc_name = 'cdo_operation'\n",
    "process = wpsHM.describeprocess(proc_name) # get process info\n",
    "print(process.title, ' : ',process.abstract,'\\n')\n",
    "for i in process.dataInputs:\n",
    "    print('inputs :', i.identifier, ' : ', i.abstract)\n",
    "for i in process.processOutputs:\n",
    "    print('outputs :', i.identifier, ' : ', i.abstract)\n"
   ]
  },
  {
   "cell_type": "markdown",
   "metadata": {},
   "source": [
    "#####4.4 Create inputs & execute WPS\n"
   ]
  },
  {
   "cell_type": "code",
   "execution_count": 91,
   "metadata": {},
   "outputs": [
    {
     "name": "stdout",
     "output_type": "stream",
     "text": [
      "ProcessSucceeded\nhttps://pavics.ouranos.ca:443/wpsoutputs/hummingbird/b9fc6b4c-b844-11e8-91d6-0242ac12000d.xml\n"
     ]
    }
   ],
   "source": [
    "myinputs = []\n",
    "myinputs.append(('dataset',ComplexDataInput(merged_nc)))\n",
    "myinputs.append(('operator','monmax'))\n",
    "\n",
    "execution = wpsHM.execute(identifier=proc_name,inputs=myinputs )\n",
    "print(execution.status)\n",
    "print(execution.statusLocation)"
   ]
  },
  {
   "cell_type": "markdown",
   "metadata": {},
   "source": [
    "#####4.5 Download the output\n"
   ]
  },
  {
   "cell_type": "code",
   "execution_count": 100,
   "metadata": {},
   "outputs": [
    {
     "name": "stdout",
     "output_type": "stream",
     "text": [
      "https://pavics.ouranos.ca:443/wpsoutputs/hummingbird/b9fc6b4c-b844-11e8-91d6-0242ac12000d.xml\nhttps://pavics.ouranos.ca:443/wpsoutputs/hummingbird/b9fc6b4c-b844-11e8-91d6-0242ac12000d/cdo_monmax_uP6bgl.nc\n./output/cdo_monmax_uP6bgl.nc\n"
     ]
    }
   ],
   "source": [
    "\n",
    "print(execution.statusLocation)\n",
    "o = requests.get(execution.statusLocation)\n",
    "tree = ET.fromstring(o.content)\n",
    "for child in tree:\n",
    "    if 'ProcessOutputs' in child.tag:\n",
    "        for c in child:\n",
    "            if 'Output' in c.tag:\n",
    "                for cc in c:\n",
    "                    if 'Reference' in cc.tag:\n",
    "                        monmax_nc = cc.get('{http://www.w3.org/1999/xlink}href')\n",
    "                        #print(r.content)\n",
    "print(monmax_nc)\n",
    "r = requests.get(monmax_nc)\n",
    "\n",
    "outfile_monmax = './output/' + monmax_nc.split('/')[-1] \n",
    "print(outfile_monmax)\n",
    "with open(outfile_monmax, 'wb') as f:\n",
    "    f.write(r.content)\n"
   ]
  },
  {
   "cell_type": "markdown",
   "metadata": {},
   "source": [
    "#####4.6 Plot the results and compare with daily data series\n"
   ]
  },
  {
   "cell_type": "code",
   "execution_count": 110,
   "metadata": {},
   "outputs": [
    {
     "name": "stdout",
     "output_type": "stream",
     "text": [
      "./output/nrcan_canada_daily_tasmax_1981_subset_merged_UwgXPF.nc\n./output/cdo_monmax_uP6bgl.nc\n"
     ]
    },
    {
     "data": {
      "text/plain": [
       "[<matplotlib.lines.Line2D at 0x7fa7f8ca3358>]"
      ]
     },
     "execution_count": 110,
     "metadata": {},
     "output_type": "execute_result"
    },
    {
     "data": {
      "image/png": "[encoded data removed]",
      "text/plain": [
       "<Figure size 432x288 with 1 Axes>"
      ]
     },
     "metadata": {},
     "output_type": "display_data"
    }
   ],
   "source": [
    "ncMerge = Dataset(outfile_merge)\n",
    "print(outfile_merge)\n",
    "ncMax = Dataset(outfile_monmax)\n",
    "print(outfile_monmax)\n",
    "\n",
    "tasmax_merge = ncMerge['tasmax'][:]\n",
    "time_merge = ncMerge['time'][:]\n",
    "plt.plot(time_merge,tasmax_merge[:,10,10])\n",
    "\n",
    "tasmax_monmax = ncMax['tasmax'][:]\n",
    "time_max = ncMax['time'][:]\n",
    "plt.plot(time_max,tasmax_monmax[:,10,10],color='r')\n"
   ]
  },
  {
   "cell_type": "code",
   "execution_count": null,
   "metadata": {},
   "outputs": [],
   "source": []
  }
 ],
 "metadata": {
  "kernelspec": {
   "display_name": "Python 2",
   "language": "python",
   "name": "python2"
  },
  "language_info": {
   "codemirror_mode": {
    "name": "ipython",
    "version": 2
   },
   "file_extension": ".py",
   "mimetype": "text/x-python",
   "name": "python",
   "nbconvert_exporter": "python",
   "pygments_lexer": "ipython2",
   "version": "2.7.6"
  }
 },
 "nbformat": 4,
 "nbformat_minor": 0
}
